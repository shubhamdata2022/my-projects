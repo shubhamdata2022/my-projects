{
 "cells": [
  {
   "cell_type": "markdown",
   "id": "05281166",
   "metadata": {},
   "source": [
    "# Global Power Plant Database Project\n"
   ]
  },
  {
   "cell_type": "markdown",
   "id": "1d53bd8e",
   "metadata": {},
   "source": [
    "# Description\n"
   ]
  },
  {
   "cell_type": "markdown",
   "id": "3ac1c3fc",
   "metadata": {},
   "source": [
    "The Global Power Plant Database is a comprehensive, open source database of power plants around the world. It centralizes power plant data to make it easier to navigate, compare and draw insights for one’s own analysis. The database covers approximately 35,000 power plants from 167 countries and includes thermal plants (e.g. coal, gas, oil, nuclear, biomass, waste, geothermal) and renewables (e.g. hydro, wind, solar). Each power plant is geolocated and entries contain information on plant capacity, generation, ownership, and fuel type. It will be continuously updated as data becomes available.\n",
    "\n"
   ]
  },
  {
   "cell_type": "markdown",
   "id": "568f2578",
   "metadata": {},
   "source": [
    "# Key Attributes of the Database\n"
   ]
  },
  {
   "cell_type": "markdown",
   "id": "e9992e3c",
   "metadata": {},
   "source": [
    "The database includes the following indicators:-\n",
    "\n",
    "country` (text): 3 character country code corresponding to the ISO 3166-1 alpha-3 specification [5]\n",
    "\n",
    "country_long (text): longer form of the country designation\n",
    "\n",
    "name (text): name or title of the power plant, generally in Romanized form\n",
    "\n",
    "gppd_idnr (text): 10 or 12 character identifier for the power plant\n",
    "\n",
    "capacity_mw (number): electrical generating capacity in megawatts\n",
    "    \n",
    "latitude (number): geolocation in decimal degrees; WGS84 (EPSG:4326)\n",
    "\n",
    "longitude (number): geolocation in decimal degrees; WGS84 (EPSG:4326)\n",
    "\n",
    "primary_fuel (text): energy source used in primary electricity generation or export\n",
    "\n",
    "other_fuel1 (text): energy source used in electricity generation or export\n",
    "\n",
    "other_fuel2 (text): energy source used in electricity generation or export\n",
    "\n",
    "other_fuel3 (text): energy source used in electricity generation or export\n",
    "\n",
    "commissioning_year (number): year of plant operation, weighted by unit-capacity when data is available\n",
    "\n",
    "owner (text): majority shareholder of the power plant, generally in Romanized form\n",
    "\n",
    "source (text): entity reporting the data; could be an organization, report, or document, generally in Romanized form\n",
    "\n",
    "url (text): web document corresponding to the source field\n",
    "\n",
    "geolocation_source (text): attribution for geolocation information\n",
    "\n",
    "wepp_id (text): a reference to a unique plant identifier in the widely-used PLATTS-WEPP database.\n",
    "\n",
    "year_of_capacity_data (number): year the capacity information was reported\n",
    "\n",
    "generation_gwh_2013 (number): electricity generation in gigawatt-hours reported for the year 2013\n",
    "\n",
    "generation_gwh_2014 (number): electricity generation in gigawatt-hours reported for the year 2014\n",
    "    \n",
    "generation_gwh_2015 (number): electricity generation in gigawatt-hours reported for the year 2015\n",
    "\n",
    "generation_gwh_2016 (number): electricity generation in gigawatt-hours reported for the year 2016\n",
    "\n",
    "generation_gwh_2017 (number): electricity generation in gigawatt-hours reported for the year 2017\n",
    "\n",
    "generation_gwh_2018 (number): electricity generation in gigawatt-hours reported for the year 2018\n",
    "\n",
    "generation_gwh_2019 (number): electricity generation in gigawatt-hours reported for the year 2019\n",
    "\n",
    "generation_data_source (text): attribution for the reported generation information\n",
    "\n",
    "estimated_generation_gwh_2013 (number): estimated electricity generation in gigawatt-hours for the year 2013\n",
    "\n",
    "estimated_generation_gwh_2014 (number): estimated electricity generation in gigawatt-hours for the year 2014\n",
    "\n",
    "estimated_generation_gwh_2015 (number): estimated electricity generation in gigawatt-hours for the year 2015\n",
    "\n",
    "estimated_generation_gwh_2016 (number): estimated electricity generation in gigawatt-hours for the year 2016\n",
    "\n",
    "estimated_generation_gwh_2017 (number): estimated electricity generation in gigawatt-hours for the year 2017\n",
    "\n",
    "'estimated_generation_note_2013` (text): label of the model/method used to estimate generation for the year 2013\n",
    "\n",
    "estimated_generation_note_2014 (text): label of the model/method used to estimate generation for the year 2014\n",
    "\n",
    "estimated_generation_note_2015 (text): label of the model/method used to estimate generation for the year 2015\n",
    "\n",
    "estimated_generation_note_2016 (text): label of the model/method used to estimate generation for the year 2016\n",
    "\n",
    "estimated_generation_note_2017 (text): label of the model/method used to estimate generation for the year 2017\n",
    "\n",
    "    "
   ]
  },
  {
   "cell_type": "markdown",
   "id": "e6caede0",
   "metadata": {},
   "source": [
    "# AIM"
   ]
  },
  {
   "cell_type": "markdown",
   "id": "977eee3f",
   "metadata": {},
   "source": [
    "Prediction : Make two prediction\n",
    "\n",
    "1  Primary Fuel\n",
    "\n",
    "2  capacity_mw"
   ]
  },
  {
   "cell_type": "markdown",
   "id": "62cef111",
   "metadata": {},
   "source": [
    "# Load Libraries"
   ]
  },
  {
   "cell_type": "code",
   "execution_count": 70,
   "id": "46fea80b",
   "metadata": {},
   "outputs": [],
   "source": [
    "import pandas as pd\n",
    "import numpy as np\n",
    "import seaborn as sns\n",
    "import matplotlib.pyplot as plt\n",
    "%matplotlib inline\n",
    "\n",
    "from sklearn import metrics\n",
    "from scipy.stats import zscore\n",
    "from sklearn.preprocessing import LabelEncoder\n",
    "from sklearn.preprocessing import OrdinalEncoder\n",
    "from sklearn.preprocessing import StandardScaler\n",
    "from sklearn.model_selection import train_test_split\n",
    "from sklearn.model_selection import cross_val_score\n",
    "from sklearn.model_selection import GridSearchCV\n",
    "from sklearn.linear_model import LinearRegression\n",
    "from sklearn.metrics import mean_squared_error,mean_absolute_error\n",
    "from sklearn.metrics import r2_score\n",
    "from sklearn.linear_model import Ridge\n",
    "from sklearn.ensemble import RandomForestRegressor\n",
    "from sklearn.linear_model import LogisticRegression\n",
    "from sklearn.tree import DecisionTreeRegressor\n",
    "from sklearn.ensemble import GradientBoostingRegressor\n",
    "from sklearn.metrics import classification_report\n",
    "import pickle\n",
    "from sklearn.tree import DecisionTreeClassifier\n",
    "from sklearn.neighbors import KNeighborsClassifier\n",
    "from sklearn.model_selection import train_test_split\n",
    "from sklearn.metrics import accuracy_score,confusion_matrix,classification_report\n",
    "from sklearn.ensemble import RandomForestClassifier\n",
    "from sklearn.ensemble import AdaBoostClassifier\n",
    "from sklearn.ensemble import BaggingClassifier\n",
    "from sklearn.ensemble import GradientBoostingClassifier\n",
    "from sklearn.model_selection import GridSearchCV\n",
    "from sklearn.metrics import precision_score\n",
    "from sklearn.metrics import recall_score\n",
    "from sklearn.metrics import f1_score\n",
    "from sklearn.metrics import roc_auc_score\n",
    "\n"
   ]
  },
  {
   "cell_type": "markdown",
   "id": "7c675c7d",
   "metadata": {},
   "source": [
    "# Load The Data"
   ]
  },
  {
   "cell_type": "code",
   "execution_count": 2,
   "id": "b6507289",
   "metadata": {},
   "outputs": [
    {
     "data": {
      "text/html": [
       "<div>\n",
       "<style scoped>\n",
       "    .dataframe tbody tr th:only-of-type {\n",
       "        vertical-align: middle;\n",
       "    }\n",
       "\n",
       "    .dataframe tbody tr th {\n",
       "        vertical-align: top;\n",
       "    }\n",
       "\n",
       "    .dataframe thead th {\n",
       "        text-align: right;\n",
       "    }\n",
       "</style>\n",
       "<table border=\"1\" class=\"dataframe\">\n",
       "  <thead>\n",
       "    <tr style=\"text-align: right;\">\n",
       "      <th></th>\n",
       "      <th>country</th>\n",
       "      <th>country_long</th>\n",
       "      <th>name</th>\n",
       "      <th>gppd_idnr</th>\n",
       "      <th>capacity_mw</th>\n",
       "      <th>latitude</th>\n",
       "      <th>longitude</th>\n",
       "      <th>primary_fuel</th>\n",
       "      <th>other_fuel1</th>\n",
       "      <th>other_fuel2</th>\n",
       "      <th>...</th>\n",
       "      <th>year_of_capacity_data</th>\n",
       "      <th>generation_gwh_2013</th>\n",
       "      <th>generation_gwh_2014</th>\n",
       "      <th>generation_gwh_2015</th>\n",
       "      <th>generation_gwh_2016</th>\n",
       "      <th>generation_gwh_2017</th>\n",
       "      <th>generation_gwh_2018</th>\n",
       "      <th>generation_gwh_2019</th>\n",
       "      <th>generation_data_source</th>\n",
       "      <th>estimated_generation_gwh</th>\n",
       "    </tr>\n",
       "  </thead>\n",
       "  <tbody>\n",
       "    <tr>\n",
       "      <th>0</th>\n",
       "      <td>IND</td>\n",
       "      <td>India</td>\n",
       "      <td>ACME Solar Tower</td>\n",
       "      <td>WRI1020239</td>\n",
       "      <td>2.5</td>\n",
       "      <td>28.1839</td>\n",
       "      <td>73.2407</td>\n",
       "      <td>Solar</td>\n",
       "      <td>NaN</td>\n",
       "      <td>NaN</td>\n",
       "      <td>...</td>\n",
       "      <td>NaN</td>\n",
       "      <td>NaN</td>\n",
       "      <td>NaN</td>\n",
       "      <td>NaN</td>\n",
       "      <td>NaN</td>\n",
       "      <td>NaN</td>\n",
       "      <td>NaN</td>\n",
       "      <td>NaN</td>\n",
       "      <td>NaN</td>\n",
       "      <td>NaN</td>\n",
       "    </tr>\n",
       "    <tr>\n",
       "      <th>1</th>\n",
       "      <td>IND</td>\n",
       "      <td>India</td>\n",
       "      <td>ADITYA CEMENT WORKS</td>\n",
       "      <td>WRI1019881</td>\n",
       "      <td>98.0</td>\n",
       "      <td>24.7663</td>\n",
       "      <td>74.6090</td>\n",
       "      <td>Coal</td>\n",
       "      <td>NaN</td>\n",
       "      <td>NaN</td>\n",
       "      <td>...</td>\n",
       "      <td>NaN</td>\n",
       "      <td>NaN</td>\n",
       "      <td>NaN</td>\n",
       "      <td>NaN</td>\n",
       "      <td>NaN</td>\n",
       "      <td>NaN</td>\n",
       "      <td>NaN</td>\n",
       "      <td>NaN</td>\n",
       "      <td>NaN</td>\n",
       "      <td>NaN</td>\n",
       "    </tr>\n",
       "    <tr>\n",
       "      <th>2</th>\n",
       "      <td>IND</td>\n",
       "      <td>India</td>\n",
       "      <td>AES Saurashtra Windfarms</td>\n",
       "      <td>WRI1026669</td>\n",
       "      <td>39.2</td>\n",
       "      <td>21.9038</td>\n",
       "      <td>69.3732</td>\n",
       "      <td>Wind</td>\n",
       "      <td>NaN</td>\n",
       "      <td>NaN</td>\n",
       "      <td>...</td>\n",
       "      <td>NaN</td>\n",
       "      <td>NaN</td>\n",
       "      <td>NaN</td>\n",
       "      <td>NaN</td>\n",
       "      <td>NaN</td>\n",
       "      <td>NaN</td>\n",
       "      <td>NaN</td>\n",
       "      <td>NaN</td>\n",
       "      <td>NaN</td>\n",
       "      <td>NaN</td>\n",
       "    </tr>\n",
       "    <tr>\n",
       "      <th>3</th>\n",
       "      <td>IND</td>\n",
       "      <td>India</td>\n",
       "      <td>AGARTALA GT</td>\n",
       "      <td>IND0000001</td>\n",
       "      <td>135.0</td>\n",
       "      <td>23.8712</td>\n",
       "      <td>91.3602</td>\n",
       "      <td>Gas</td>\n",
       "      <td>NaN</td>\n",
       "      <td>NaN</td>\n",
       "      <td>...</td>\n",
       "      <td>2019.0</td>\n",
       "      <td>NaN</td>\n",
       "      <td>617.789264</td>\n",
       "      <td>843.747000</td>\n",
       "      <td>886.004428</td>\n",
       "      <td>663.774500</td>\n",
       "      <td>626.239128</td>\n",
       "      <td>NaN</td>\n",
       "      <td>Central Electricity Authority</td>\n",
       "      <td>NaN</td>\n",
       "    </tr>\n",
       "    <tr>\n",
       "      <th>4</th>\n",
       "      <td>IND</td>\n",
       "      <td>India</td>\n",
       "      <td>AKALTARA TPP</td>\n",
       "      <td>IND0000002</td>\n",
       "      <td>1800.0</td>\n",
       "      <td>21.9603</td>\n",
       "      <td>82.4091</td>\n",
       "      <td>Coal</td>\n",
       "      <td>Oil</td>\n",
       "      <td>NaN</td>\n",
       "      <td>...</td>\n",
       "      <td>2019.0</td>\n",
       "      <td>NaN</td>\n",
       "      <td>3035.550000</td>\n",
       "      <td>5916.370000</td>\n",
       "      <td>6243.000000</td>\n",
       "      <td>5385.579736</td>\n",
       "      <td>7279.000000</td>\n",
       "      <td>NaN</td>\n",
       "      <td>Central Electricity Authority</td>\n",
       "      <td>NaN</td>\n",
       "    </tr>\n",
       "    <tr>\n",
       "      <th>...</th>\n",
       "      <td>...</td>\n",
       "      <td>...</td>\n",
       "      <td>...</td>\n",
       "      <td>...</td>\n",
       "      <td>...</td>\n",
       "      <td>...</td>\n",
       "      <td>...</td>\n",
       "      <td>...</td>\n",
       "      <td>...</td>\n",
       "      <td>...</td>\n",
       "      <td>...</td>\n",
       "      <td>...</td>\n",
       "      <td>...</td>\n",
       "      <td>...</td>\n",
       "      <td>...</td>\n",
       "      <td>...</td>\n",
       "      <td>...</td>\n",
       "      <td>...</td>\n",
       "      <td>...</td>\n",
       "      <td>...</td>\n",
       "      <td>...</td>\n",
       "    </tr>\n",
       "    <tr>\n",
       "      <th>902</th>\n",
       "      <td>IND</td>\n",
       "      <td>India</td>\n",
       "      <td>YERMARUS TPP</td>\n",
       "      <td>IND0000513</td>\n",
       "      <td>1600.0</td>\n",
       "      <td>16.2949</td>\n",
       "      <td>77.3568</td>\n",
       "      <td>Coal</td>\n",
       "      <td>Oil</td>\n",
       "      <td>NaN</td>\n",
       "      <td>...</td>\n",
       "      <td>2019.0</td>\n",
       "      <td>NaN</td>\n",
       "      <td>NaN</td>\n",
       "      <td>0.994875</td>\n",
       "      <td>233.596650</td>\n",
       "      <td>865.400000</td>\n",
       "      <td>686.500000</td>\n",
       "      <td>NaN</td>\n",
       "      <td>Central Electricity Authority</td>\n",
       "      <td>NaN</td>\n",
       "    </tr>\n",
       "    <tr>\n",
       "      <th>903</th>\n",
       "      <td>IND</td>\n",
       "      <td>India</td>\n",
       "      <td>Yelesandra Solar Power Plant</td>\n",
       "      <td>WRI1026222</td>\n",
       "      <td>3.0</td>\n",
       "      <td>12.8932</td>\n",
       "      <td>78.1654</td>\n",
       "      <td>Solar</td>\n",
       "      <td>NaN</td>\n",
       "      <td>NaN</td>\n",
       "      <td>...</td>\n",
       "      <td>NaN</td>\n",
       "      <td>NaN</td>\n",
       "      <td>NaN</td>\n",
       "      <td>NaN</td>\n",
       "      <td>NaN</td>\n",
       "      <td>NaN</td>\n",
       "      <td>NaN</td>\n",
       "      <td>NaN</td>\n",
       "      <td>NaN</td>\n",
       "      <td>NaN</td>\n",
       "    </tr>\n",
       "    <tr>\n",
       "      <th>904</th>\n",
       "      <td>IND</td>\n",
       "      <td>India</td>\n",
       "      <td>Yelisirur wind power project</td>\n",
       "      <td>WRI1026776</td>\n",
       "      <td>25.5</td>\n",
       "      <td>15.2758</td>\n",
       "      <td>75.5811</td>\n",
       "      <td>Wind</td>\n",
       "      <td>NaN</td>\n",
       "      <td>NaN</td>\n",
       "      <td>...</td>\n",
       "      <td>NaN</td>\n",
       "      <td>NaN</td>\n",
       "      <td>NaN</td>\n",
       "      <td>NaN</td>\n",
       "      <td>NaN</td>\n",
       "      <td>NaN</td>\n",
       "      <td>NaN</td>\n",
       "      <td>NaN</td>\n",
       "      <td>NaN</td>\n",
       "      <td>NaN</td>\n",
       "    </tr>\n",
       "    <tr>\n",
       "      <th>905</th>\n",
       "      <td>IND</td>\n",
       "      <td>India</td>\n",
       "      <td>ZAWAR MINES</td>\n",
       "      <td>WRI1019901</td>\n",
       "      <td>80.0</td>\n",
       "      <td>24.3500</td>\n",
       "      <td>73.7477</td>\n",
       "      <td>Coal</td>\n",
       "      <td>NaN</td>\n",
       "      <td>NaN</td>\n",
       "      <td>...</td>\n",
       "      <td>NaN</td>\n",
       "      <td>NaN</td>\n",
       "      <td>NaN</td>\n",
       "      <td>NaN</td>\n",
       "      <td>NaN</td>\n",
       "      <td>NaN</td>\n",
       "      <td>NaN</td>\n",
       "      <td>NaN</td>\n",
       "      <td>NaN</td>\n",
       "      <td>NaN</td>\n",
       "    </tr>\n",
       "    <tr>\n",
       "      <th>906</th>\n",
       "      <td>IND</td>\n",
       "      <td>India</td>\n",
       "      <td>iEnergy Theni Wind Farm</td>\n",
       "      <td>WRI1026761</td>\n",
       "      <td>16.5</td>\n",
       "      <td>9.9344</td>\n",
       "      <td>77.4768</td>\n",
       "      <td>Wind</td>\n",
       "      <td>NaN</td>\n",
       "      <td>NaN</td>\n",
       "      <td>...</td>\n",
       "      <td>NaN</td>\n",
       "      <td>NaN</td>\n",
       "      <td>NaN</td>\n",
       "      <td>NaN</td>\n",
       "      <td>NaN</td>\n",
       "      <td>NaN</td>\n",
       "      <td>NaN</td>\n",
       "      <td>NaN</td>\n",
       "      <td>NaN</td>\n",
       "      <td>NaN</td>\n",
       "    </tr>\n",
       "  </tbody>\n",
       "</table>\n",
       "<p>907 rows × 27 columns</p>\n",
       "</div>"
      ],
      "text/plain": [
       "    country country_long                          name   gppd_idnr  \\\n",
       "0       IND        India              ACME Solar Tower  WRI1020239   \n",
       "1       IND        India           ADITYA CEMENT WORKS  WRI1019881   \n",
       "2       IND        India      AES Saurashtra Windfarms  WRI1026669   \n",
       "3       IND        India                   AGARTALA GT  IND0000001   \n",
       "4       IND        India                  AKALTARA TPP  IND0000002   \n",
       "..      ...          ...                           ...         ...   \n",
       "902     IND        India                  YERMARUS TPP  IND0000513   \n",
       "903     IND        India  Yelesandra Solar Power Plant  WRI1026222   \n",
       "904     IND        India  Yelisirur wind power project  WRI1026776   \n",
       "905     IND        India                   ZAWAR MINES  WRI1019901   \n",
       "906     IND        India       iEnergy Theni Wind Farm  WRI1026761   \n",
       "\n",
       "     capacity_mw  latitude  longitude primary_fuel other_fuel1 other_fuel2  \\\n",
       "0            2.5   28.1839    73.2407        Solar         NaN         NaN   \n",
       "1           98.0   24.7663    74.6090         Coal         NaN         NaN   \n",
       "2           39.2   21.9038    69.3732         Wind         NaN         NaN   \n",
       "3          135.0   23.8712    91.3602          Gas         NaN         NaN   \n",
       "4         1800.0   21.9603    82.4091         Coal         Oil         NaN   \n",
       "..           ...       ...        ...          ...         ...         ...   \n",
       "902       1600.0   16.2949    77.3568         Coal         Oil         NaN   \n",
       "903          3.0   12.8932    78.1654        Solar         NaN         NaN   \n",
       "904         25.5   15.2758    75.5811         Wind         NaN         NaN   \n",
       "905         80.0   24.3500    73.7477         Coal         NaN         NaN   \n",
       "906         16.5    9.9344    77.4768         Wind         NaN         NaN   \n",
       "\n",
       "     ...  year_of_capacity_data  generation_gwh_2013 generation_gwh_2014  \\\n",
       "0    ...                    NaN                  NaN                 NaN   \n",
       "1    ...                    NaN                  NaN                 NaN   \n",
       "2    ...                    NaN                  NaN                 NaN   \n",
       "3    ...                 2019.0                  NaN          617.789264   \n",
       "4    ...                 2019.0                  NaN         3035.550000   \n",
       "..   ...                    ...                  ...                 ...   \n",
       "902  ...                 2019.0                  NaN                 NaN   \n",
       "903  ...                    NaN                  NaN                 NaN   \n",
       "904  ...                    NaN                  NaN                 NaN   \n",
       "905  ...                    NaN                  NaN                 NaN   \n",
       "906  ...                    NaN                  NaN                 NaN   \n",
       "\n",
       "    generation_gwh_2015 generation_gwh_2016 generation_gwh_2017  \\\n",
       "0                   NaN                 NaN                 NaN   \n",
       "1                   NaN                 NaN                 NaN   \n",
       "2                   NaN                 NaN                 NaN   \n",
       "3            843.747000          886.004428          663.774500   \n",
       "4           5916.370000         6243.000000         5385.579736   \n",
       "..                  ...                 ...                 ...   \n",
       "902            0.994875          233.596650          865.400000   \n",
       "903                 NaN                 NaN                 NaN   \n",
       "904                 NaN                 NaN                 NaN   \n",
       "905                 NaN                 NaN                 NaN   \n",
       "906                 NaN                 NaN                 NaN   \n",
       "\n",
       "     generation_gwh_2018  generation_gwh_2019         generation_data_source  \\\n",
       "0                    NaN                  NaN                            NaN   \n",
       "1                    NaN                  NaN                            NaN   \n",
       "2                    NaN                  NaN                            NaN   \n",
       "3             626.239128                  NaN  Central Electricity Authority   \n",
       "4            7279.000000                  NaN  Central Electricity Authority   \n",
       "..                   ...                  ...                            ...   \n",
       "902           686.500000                  NaN  Central Electricity Authority   \n",
       "903                  NaN                  NaN                            NaN   \n",
       "904                  NaN                  NaN                            NaN   \n",
       "905                  NaN                  NaN                            NaN   \n",
       "906                  NaN                  NaN                            NaN   \n",
       "\n",
       "     estimated_generation_gwh  \n",
       "0                         NaN  \n",
       "1                         NaN  \n",
       "2                         NaN  \n",
       "3                         NaN  \n",
       "4                         NaN  \n",
       "..                        ...  \n",
       "902                       NaN  \n",
       "903                       NaN  \n",
       "904                       NaN  \n",
       "905                       NaN  \n",
       "906                       NaN  \n",
       "\n",
       "[907 rows x 27 columns]"
      ]
     },
     "execution_count": 2,
     "metadata": {},
     "output_type": "execute_result"
    }
   ],
   "source": [
    "df = pd.read_csv('poweplant.csv')\n",
    "df"
   ]
  },
  {
   "cell_type": "code",
   "execution_count": 3,
   "id": "27cd24ba",
   "metadata": {},
   "outputs": [
    {
     "data": {
      "text/plain": [
       "(907, 27)"
      ]
     },
     "execution_count": 3,
     "metadata": {},
     "output_type": "execute_result"
    }
   ],
   "source": [
    "df.shape\n"
   ]
  },
  {
   "cell_type": "markdown",
   "id": "e61dae17",
   "metadata": {},
   "source": [
    "We have 907 rows and 27 columns in data"
   ]
  },
  {
   "cell_type": "code",
   "execution_count": 4,
   "id": "1fc9568b",
   "metadata": {},
   "outputs": [
    {
     "data": {
      "text/plain": [
       "country                       0\n",
       "country_long                  0\n",
       "name                          0\n",
       "gppd_idnr                     0\n",
       "capacity_mw                   0\n",
       "latitude                     46\n",
       "longitude                    46\n",
       "primary_fuel                  0\n",
       "other_fuel1                 709\n",
       "other_fuel2                 906\n",
       "other_fuel3                 907\n",
       "commissioning_year          380\n",
       "owner                       565\n",
       "source                        0\n",
       "url                           0\n",
       "geolocation_source           19\n",
       "wepp_id                     907\n",
       "year_of_capacity_data       388\n",
       "generation_gwh_2013         907\n",
       "generation_gwh_2014         509\n",
       "generation_gwh_2015         485\n",
       "generation_gwh_2016         473\n",
       "generation_gwh_2017         467\n",
       "generation_gwh_2018         459\n",
       "generation_gwh_2019         907\n",
       "generation_data_source      458\n",
       "estimated_generation_gwh    907\n",
       "dtype: int64"
      ]
     },
     "execution_count": 4,
     "metadata": {},
     "output_type": "execute_result"
    }
   ],
   "source": [
    "df.isnull().sum()"
   ]
  },
  {
   "cell_type": "code",
   "execution_count": 5,
   "id": "544b075a",
   "metadata": {},
   "outputs": [
    {
     "name": "stdout",
     "output_type": "stream",
     "text": [
      "<class 'pandas.core.frame.DataFrame'>\n",
      "RangeIndex: 907 entries, 0 to 906\n",
      "Data columns (total 27 columns):\n",
      " #   Column                    Non-Null Count  Dtype  \n",
      "---  ------                    --------------  -----  \n",
      " 0   country                   907 non-null    object \n",
      " 1   country_long              907 non-null    object \n",
      " 2   name                      907 non-null    object \n",
      " 3   gppd_idnr                 907 non-null    object \n",
      " 4   capacity_mw               907 non-null    float64\n",
      " 5   latitude                  861 non-null    float64\n",
      " 6   longitude                 861 non-null    float64\n",
      " 7   primary_fuel              907 non-null    object \n",
      " 8   other_fuel1               198 non-null    object \n",
      " 9   other_fuel2               1 non-null      object \n",
      " 10  other_fuel3               0 non-null      float64\n",
      " 11  commissioning_year        527 non-null    float64\n",
      " 12  owner                     342 non-null    object \n",
      " 13  source                    907 non-null    object \n",
      " 14  url                       907 non-null    object \n",
      " 15  geolocation_source        888 non-null    object \n",
      " 16  wepp_id                   0 non-null      float64\n",
      " 17  year_of_capacity_data     519 non-null    float64\n",
      " 18  generation_gwh_2013       0 non-null      float64\n",
      " 19  generation_gwh_2014       398 non-null    float64\n",
      " 20  generation_gwh_2015       422 non-null    float64\n",
      " 21  generation_gwh_2016       434 non-null    float64\n",
      " 22  generation_gwh_2017       440 non-null    float64\n",
      " 23  generation_gwh_2018       448 non-null    float64\n",
      " 24  generation_gwh_2019       0 non-null      float64\n",
      " 25  generation_data_source    449 non-null    object \n",
      " 26  estimated_generation_gwh  0 non-null      float64\n",
      "dtypes: float64(15), object(12)\n",
      "memory usage: 191.4+ KB\n"
     ]
    }
   ],
   "source": [
    "df.info()"
   ]
  },
  {
   "cell_type": "markdown",
   "id": "5b99cd1d",
   "metadata": {},
   "source": [
    "We are going to remove some columns those having maximum no of null values because if we fill those values prediction \n",
    "will not correct"
   ]
  },
  {
   "cell_type": "code",
   "execution_count": 6,
   "id": "cb35fb40",
   "metadata": {},
   "outputs": [],
   "source": [
    "df.drop([\"other_fuel1\", \"other_fuel2\",\"generation_gwh_2013\",\"generation_gwh_2019\",\"other_fuel3\", \"owner\", \"wepp_id\",\n",
    "        \"generation_data_source\", \"estimated_generation_gwh\"], axis=1, inplace=True)"
   ]
  },
  {
   "cell_type": "code",
   "execution_count": 7,
   "id": "629c581c",
   "metadata": {},
   "outputs": [
    {
     "data": {
      "text/plain": [
       "(907, 18)"
      ]
     },
     "execution_count": 7,
     "metadata": {},
     "output_type": "execute_result"
    }
   ],
   "source": [
    "df.shape"
   ]
  },
  {
   "cell_type": "code",
   "execution_count": 8,
   "id": "29de6ff9",
   "metadata": {},
   "outputs": [
    {
     "data": {
      "text/plain": [
       "country                    1\n",
       "country_long               1\n",
       "name                     907\n",
       "gppd_idnr                907\n",
       "capacity_mw              361\n",
       "latitude                 836\n",
       "longitude                827\n",
       "primary_fuel               8\n",
       "commissioning_year        73\n",
       "source                   191\n",
       "url                      304\n",
       "geolocation_source         3\n",
       "year_of_capacity_data      1\n",
       "generation_gwh_2014      371\n",
       "generation_gwh_2015      396\n",
       "generation_gwh_2016      403\n",
       "generation_gwh_2017      408\n",
       "generation_gwh_2018      410\n",
       "dtype: int64"
      ]
     },
     "execution_count": 8,
     "metadata": {},
     "output_type": "execute_result"
    }
   ],
   "source": [
    "df.nunique()"
   ]
  },
  {
   "cell_type": "code",
   "execution_count": 9,
   "id": "b4def6fe",
   "metadata": {},
   "outputs": [
    {
     "data": {
      "text/html": [
       "<div>\n",
       "<style scoped>\n",
       "    .dataframe tbody tr th:only-of-type {\n",
       "        vertical-align: middle;\n",
       "    }\n",
       "\n",
       "    .dataframe tbody tr th {\n",
       "        vertical-align: top;\n",
       "    }\n",
       "\n",
       "    .dataframe thead th {\n",
       "        text-align: right;\n",
       "    }\n",
       "</style>\n",
       "<table border=\"1\" class=\"dataframe\">\n",
       "  <thead>\n",
       "    <tr style=\"text-align: right;\">\n",
       "      <th></th>\n",
       "      <th>country</th>\n",
       "      <th>country_long</th>\n",
       "      <th>name</th>\n",
       "      <th>gppd_idnr</th>\n",
       "      <th>capacity_mw</th>\n",
       "      <th>latitude</th>\n",
       "      <th>longitude</th>\n",
       "      <th>primary_fuel</th>\n",
       "      <th>commissioning_year</th>\n",
       "      <th>source</th>\n",
       "      <th>url</th>\n",
       "      <th>geolocation_source</th>\n",
       "      <th>year_of_capacity_data</th>\n",
       "      <th>generation_gwh_2014</th>\n",
       "      <th>generation_gwh_2015</th>\n",
       "      <th>generation_gwh_2016</th>\n",
       "      <th>generation_gwh_2017</th>\n",
       "      <th>generation_gwh_2018</th>\n",
       "    </tr>\n",
       "  </thead>\n",
       "  <tbody>\n",
       "    <tr>\n",
       "      <th>0</th>\n",
       "      <td>IND</td>\n",
       "      <td>India</td>\n",
       "      <td>ACME Solar Tower</td>\n",
       "      <td>WRI1020239</td>\n",
       "      <td>2.5</td>\n",
       "      <td>28.1839</td>\n",
       "      <td>73.2407</td>\n",
       "      <td>Solar</td>\n",
       "      <td>2011.0</td>\n",
       "      <td>National Renewable Energy Laboratory</td>\n",
       "      <td>http://www.nrel.gov/csp/solarpaces/project_det...</td>\n",
       "      <td>National Renewable Energy Laboratory</td>\n",
       "      <td>NaN</td>\n",
       "      <td>NaN</td>\n",
       "      <td>NaN</td>\n",
       "      <td>NaN</td>\n",
       "      <td>NaN</td>\n",
       "      <td>NaN</td>\n",
       "    </tr>\n",
       "    <tr>\n",
       "      <th>1</th>\n",
       "      <td>IND</td>\n",
       "      <td>India</td>\n",
       "      <td>ADITYA CEMENT WORKS</td>\n",
       "      <td>WRI1019881</td>\n",
       "      <td>98.0</td>\n",
       "      <td>24.7663</td>\n",
       "      <td>74.6090</td>\n",
       "      <td>Coal</td>\n",
       "      <td>NaN</td>\n",
       "      <td>Ultratech Cement ltd</td>\n",
       "      <td>http://www.ultratechcement.com/</td>\n",
       "      <td>WRI</td>\n",
       "      <td>NaN</td>\n",
       "      <td>NaN</td>\n",
       "      <td>NaN</td>\n",
       "      <td>NaN</td>\n",
       "      <td>NaN</td>\n",
       "      <td>NaN</td>\n",
       "    </tr>\n",
       "    <tr>\n",
       "      <th>2</th>\n",
       "      <td>IND</td>\n",
       "      <td>India</td>\n",
       "      <td>AES Saurashtra Windfarms</td>\n",
       "      <td>WRI1026669</td>\n",
       "      <td>39.2</td>\n",
       "      <td>21.9038</td>\n",
       "      <td>69.3732</td>\n",
       "      <td>Wind</td>\n",
       "      <td>NaN</td>\n",
       "      <td>CDM</td>\n",
       "      <td>https://cdm.unfccc.int/Projects/DB/DNV-CUK1328...</td>\n",
       "      <td>WRI</td>\n",
       "      <td>NaN</td>\n",
       "      <td>NaN</td>\n",
       "      <td>NaN</td>\n",
       "      <td>NaN</td>\n",
       "      <td>NaN</td>\n",
       "      <td>NaN</td>\n",
       "    </tr>\n",
       "    <tr>\n",
       "      <th>3</th>\n",
       "      <td>IND</td>\n",
       "      <td>India</td>\n",
       "      <td>AGARTALA GT</td>\n",
       "      <td>IND0000001</td>\n",
       "      <td>135.0</td>\n",
       "      <td>23.8712</td>\n",
       "      <td>91.3602</td>\n",
       "      <td>Gas</td>\n",
       "      <td>2004.0</td>\n",
       "      <td>Central Electricity Authority</td>\n",
       "      <td>http://www.cea.nic.in/</td>\n",
       "      <td>WRI</td>\n",
       "      <td>2019.0</td>\n",
       "      <td>617.789264</td>\n",
       "      <td>843.747000</td>\n",
       "      <td>886.004428</td>\n",
       "      <td>663.774500</td>\n",
       "      <td>626.239128</td>\n",
       "    </tr>\n",
       "    <tr>\n",
       "      <th>4</th>\n",
       "      <td>IND</td>\n",
       "      <td>India</td>\n",
       "      <td>AKALTARA TPP</td>\n",
       "      <td>IND0000002</td>\n",
       "      <td>1800.0</td>\n",
       "      <td>21.9603</td>\n",
       "      <td>82.4091</td>\n",
       "      <td>Coal</td>\n",
       "      <td>2015.0</td>\n",
       "      <td>Central Electricity Authority</td>\n",
       "      <td>http://www.cea.nic.in/</td>\n",
       "      <td>WRI</td>\n",
       "      <td>2019.0</td>\n",
       "      <td>3035.550000</td>\n",
       "      <td>5916.370000</td>\n",
       "      <td>6243.000000</td>\n",
       "      <td>5385.579736</td>\n",
       "      <td>7279.000000</td>\n",
       "    </tr>\n",
       "    <tr>\n",
       "      <th>...</th>\n",
       "      <td>...</td>\n",
       "      <td>...</td>\n",
       "      <td>...</td>\n",
       "      <td>...</td>\n",
       "      <td>...</td>\n",
       "      <td>...</td>\n",
       "      <td>...</td>\n",
       "      <td>...</td>\n",
       "      <td>...</td>\n",
       "      <td>...</td>\n",
       "      <td>...</td>\n",
       "      <td>...</td>\n",
       "      <td>...</td>\n",
       "      <td>...</td>\n",
       "      <td>...</td>\n",
       "      <td>...</td>\n",
       "      <td>...</td>\n",
       "      <td>...</td>\n",
       "    </tr>\n",
       "    <tr>\n",
       "      <th>902</th>\n",
       "      <td>IND</td>\n",
       "      <td>India</td>\n",
       "      <td>YERMARUS TPP</td>\n",
       "      <td>IND0000513</td>\n",
       "      <td>1600.0</td>\n",
       "      <td>16.2949</td>\n",
       "      <td>77.3568</td>\n",
       "      <td>Coal</td>\n",
       "      <td>2016.0</td>\n",
       "      <td>Central Electricity Authority</td>\n",
       "      <td>http://www.cea.nic.in/</td>\n",
       "      <td>WRI</td>\n",
       "      <td>2019.0</td>\n",
       "      <td>NaN</td>\n",
       "      <td>0.994875</td>\n",
       "      <td>233.596650</td>\n",
       "      <td>865.400000</td>\n",
       "      <td>686.500000</td>\n",
       "    </tr>\n",
       "    <tr>\n",
       "      <th>903</th>\n",
       "      <td>IND</td>\n",
       "      <td>India</td>\n",
       "      <td>Yelesandra Solar Power Plant</td>\n",
       "      <td>WRI1026222</td>\n",
       "      <td>3.0</td>\n",
       "      <td>12.8932</td>\n",
       "      <td>78.1654</td>\n",
       "      <td>Solar</td>\n",
       "      <td>NaN</td>\n",
       "      <td>Karnataka Power Corporation Limited</td>\n",
       "      <td>http://karnatakapower.com</td>\n",
       "      <td>Industry About</td>\n",
       "      <td>NaN</td>\n",
       "      <td>NaN</td>\n",
       "      <td>NaN</td>\n",
       "      <td>NaN</td>\n",
       "      <td>NaN</td>\n",
       "      <td>NaN</td>\n",
       "    </tr>\n",
       "    <tr>\n",
       "      <th>904</th>\n",
       "      <td>IND</td>\n",
       "      <td>India</td>\n",
       "      <td>Yelisirur wind power project</td>\n",
       "      <td>WRI1026776</td>\n",
       "      <td>25.5</td>\n",
       "      <td>15.2758</td>\n",
       "      <td>75.5811</td>\n",
       "      <td>Wind</td>\n",
       "      <td>NaN</td>\n",
       "      <td>CDM</td>\n",
       "      <td>https://cdm.unfccc.int/Projects/DB/TUEV-RHEIN1...</td>\n",
       "      <td>WRI</td>\n",
       "      <td>NaN</td>\n",
       "      <td>NaN</td>\n",
       "      <td>NaN</td>\n",
       "      <td>NaN</td>\n",
       "      <td>NaN</td>\n",
       "      <td>NaN</td>\n",
       "    </tr>\n",
       "    <tr>\n",
       "      <th>905</th>\n",
       "      <td>IND</td>\n",
       "      <td>India</td>\n",
       "      <td>ZAWAR MINES</td>\n",
       "      <td>WRI1019901</td>\n",
       "      <td>80.0</td>\n",
       "      <td>24.3500</td>\n",
       "      <td>73.7477</td>\n",
       "      <td>Coal</td>\n",
       "      <td>NaN</td>\n",
       "      <td>Hindustan Zinc ltd</td>\n",
       "      <td>http://www.hzlindia.com/</td>\n",
       "      <td>WRI</td>\n",
       "      <td>NaN</td>\n",
       "      <td>NaN</td>\n",
       "      <td>NaN</td>\n",
       "      <td>NaN</td>\n",
       "      <td>NaN</td>\n",
       "      <td>NaN</td>\n",
       "    </tr>\n",
       "    <tr>\n",
       "      <th>906</th>\n",
       "      <td>IND</td>\n",
       "      <td>India</td>\n",
       "      <td>iEnergy Theni Wind Farm</td>\n",
       "      <td>WRI1026761</td>\n",
       "      <td>16.5</td>\n",
       "      <td>9.9344</td>\n",
       "      <td>77.4768</td>\n",
       "      <td>Wind</td>\n",
       "      <td>NaN</td>\n",
       "      <td>CDM</td>\n",
       "      <td>https://cdm.unfccc.int/Projects/DB/RWTUV134503...</td>\n",
       "      <td>WRI</td>\n",
       "      <td>NaN</td>\n",
       "      <td>NaN</td>\n",
       "      <td>NaN</td>\n",
       "      <td>NaN</td>\n",
       "      <td>NaN</td>\n",
       "      <td>NaN</td>\n",
       "    </tr>\n",
       "  </tbody>\n",
       "</table>\n",
       "<p>907 rows × 18 columns</p>\n",
       "</div>"
      ],
      "text/plain": [
       "    country country_long                          name   gppd_idnr  \\\n",
       "0       IND        India              ACME Solar Tower  WRI1020239   \n",
       "1       IND        India           ADITYA CEMENT WORKS  WRI1019881   \n",
       "2       IND        India      AES Saurashtra Windfarms  WRI1026669   \n",
       "3       IND        India                   AGARTALA GT  IND0000001   \n",
       "4       IND        India                  AKALTARA TPP  IND0000002   \n",
       "..      ...          ...                           ...         ...   \n",
       "902     IND        India                  YERMARUS TPP  IND0000513   \n",
       "903     IND        India  Yelesandra Solar Power Plant  WRI1026222   \n",
       "904     IND        India  Yelisirur wind power project  WRI1026776   \n",
       "905     IND        India                   ZAWAR MINES  WRI1019901   \n",
       "906     IND        India       iEnergy Theni Wind Farm  WRI1026761   \n",
       "\n",
       "     capacity_mw  latitude  longitude primary_fuel  commissioning_year  \\\n",
       "0            2.5   28.1839    73.2407        Solar              2011.0   \n",
       "1           98.0   24.7663    74.6090         Coal                 NaN   \n",
       "2           39.2   21.9038    69.3732         Wind                 NaN   \n",
       "3          135.0   23.8712    91.3602          Gas              2004.0   \n",
       "4         1800.0   21.9603    82.4091         Coal              2015.0   \n",
       "..           ...       ...        ...          ...                 ...   \n",
       "902       1600.0   16.2949    77.3568         Coal              2016.0   \n",
       "903          3.0   12.8932    78.1654        Solar                 NaN   \n",
       "904         25.5   15.2758    75.5811         Wind                 NaN   \n",
       "905         80.0   24.3500    73.7477         Coal                 NaN   \n",
       "906         16.5    9.9344    77.4768         Wind                 NaN   \n",
       "\n",
       "                                   source  \\\n",
       "0    National Renewable Energy Laboratory   \n",
       "1                    Ultratech Cement ltd   \n",
       "2                                     CDM   \n",
       "3           Central Electricity Authority   \n",
       "4           Central Electricity Authority   \n",
       "..                                    ...   \n",
       "902         Central Electricity Authority   \n",
       "903   Karnataka Power Corporation Limited   \n",
       "904                                   CDM   \n",
       "905                    Hindustan Zinc ltd   \n",
       "906                                   CDM   \n",
       "\n",
       "                                                   url  \\\n",
       "0    http://www.nrel.gov/csp/solarpaces/project_det...   \n",
       "1                      http://www.ultratechcement.com/   \n",
       "2    https://cdm.unfccc.int/Projects/DB/DNV-CUK1328...   \n",
       "3                               http://www.cea.nic.in/   \n",
       "4                               http://www.cea.nic.in/   \n",
       "..                                                 ...   \n",
       "902                             http://www.cea.nic.in/   \n",
       "903                          http://karnatakapower.com   \n",
       "904  https://cdm.unfccc.int/Projects/DB/TUEV-RHEIN1...   \n",
       "905                           http://www.hzlindia.com/   \n",
       "906  https://cdm.unfccc.int/Projects/DB/RWTUV134503...   \n",
       "\n",
       "                       geolocation_source  year_of_capacity_data  \\\n",
       "0    National Renewable Energy Laboratory                    NaN   \n",
       "1                                     WRI                    NaN   \n",
       "2                                     WRI                    NaN   \n",
       "3                                     WRI                 2019.0   \n",
       "4                                     WRI                 2019.0   \n",
       "..                                    ...                    ...   \n",
       "902                                   WRI                 2019.0   \n",
       "903                        Industry About                    NaN   \n",
       "904                                   WRI                    NaN   \n",
       "905                                   WRI                    NaN   \n",
       "906                                   WRI                    NaN   \n",
       "\n",
       "     generation_gwh_2014  generation_gwh_2015  generation_gwh_2016  \\\n",
       "0                    NaN                  NaN                  NaN   \n",
       "1                    NaN                  NaN                  NaN   \n",
       "2                    NaN                  NaN                  NaN   \n",
       "3             617.789264           843.747000           886.004428   \n",
       "4            3035.550000          5916.370000          6243.000000   \n",
       "..                   ...                  ...                  ...   \n",
       "902                  NaN             0.994875           233.596650   \n",
       "903                  NaN                  NaN                  NaN   \n",
       "904                  NaN                  NaN                  NaN   \n",
       "905                  NaN                  NaN                  NaN   \n",
       "906                  NaN                  NaN                  NaN   \n",
       "\n",
       "     generation_gwh_2017  generation_gwh_2018  \n",
       "0                    NaN                  NaN  \n",
       "1                    NaN                  NaN  \n",
       "2                    NaN                  NaN  \n",
       "3             663.774500           626.239128  \n",
       "4            5385.579736          7279.000000  \n",
       "..                   ...                  ...  \n",
       "902           865.400000           686.500000  \n",
       "903                  NaN                  NaN  \n",
       "904                  NaN                  NaN  \n",
       "905                  NaN                  NaN  \n",
       "906                  NaN                  NaN  \n",
       "\n",
       "[907 rows x 18 columns]"
      ]
     },
     "execution_count": 9,
     "metadata": {},
     "output_type": "execute_result"
    }
   ],
   "source": [
    "df"
   ]
  },
  {
   "cell_type": "markdown",
   "id": "aabd111b",
   "metadata": {},
   "source": [
    "now we will remove that columns which have only one unique value and which does not has any contribution in prediction"
   ]
  },
  {
   "cell_type": "code",
   "execution_count": 10,
   "id": "f9fe767b",
   "metadata": {},
   "outputs": [],
   "source": [
    "df.drop([\"country\", \"country_long\", \"year_of_capacity_data\", \"name\", \"gppd_idnr\", \"url\"], axis=1, inplace=True)\n"
   ]
  },
  {
   "cell_type": "code",
   "execution_count": 11,
   "id": "dfc60ce2",
   "metadata": {},
   "outputs": [
    {
     "data": {
      "text/html": [
       "<div>\n",
       "<style scoped>\n",
       "    .dataframe tbody tr th:only-of-type {\n",
       "        vertical-align: middle;\n",
       "    }\n",
       "\n",
       "    .dataframe tbody tr th {\n",
       "        vertical-align: top;\n",
       "    }\n",
       "\n",
       "    .dataframe thead th {\n",
       "        text-align: right;\n",
       "    }\n",
       "</style>\n",
       "<table border=\"1\" class=\"dataframe\">\n",
       "  <thead>\n",
       "    <tr style=\"text-align: right;\">\n",
       "      <th></th>\n",
       "      <th>capacity_mw</th>\n",
       "      <th>latitude</th>\n",
       "      <th>longitude</th>\n",
       "      <th>commissioning_year</th>\n",
       "      <th>generation_gwh_2014</th>\n",
       "      <th>generation_gwh_2015</th>\n",
       "      <th>generation_gwh_2016</th>\n",
       "      <th>generation_gwh_2017</th>\n",
       "      <th>generation_gwh_2018</th>\n",
       "    </tr>\n",
       "  </thead>\n",
       "  <tbody>\n",
       "    <tr>\n",
       "      <th>count</th>\n",
       "      <td>907.000000</td>\n",
       "      <td>861.000000</td>\n",
       "      <td>861.000000</td>\n",
       "      <td>527.000000</td>\n",
       "      <td>398.000000</td>\n",
       "      <td>422.000000</td>\n",
       "      <td>434.000000</td>\n",
       "      <td>440.000000</td>\n",
       "      <td>448.000000</td>\n",
       "    </tr>\n",
       "    <tr>\n",
       "      <th>mean</th>\n",
       "      <td>326.223755</td>\n",
       "      <td>21.197918</td>\n",
       "      <td>77.464907</td>\n",
       "      <td>1997.091082</td>\n",
       "      <td>2431.823590</td>\n",
       "      <td>2428.226946</td>\n",
       "      <td>2467.936859</td>\n",
       "      <td>2547.759305</td>\n",
       "      <td>2600.804099</td>\n",
       "    </tr>\n",
       "    <tr>\n",
       "      <th>std</th>\n",
       "      <td>590.085456</td>\n",
       "      <td>6.239612</td>\n",
       "      <td>4.939316</td>\n",
       "      <td>17.082868</td>\n",
       "      <td>4026.440035</td>\n",
       "      <td>4194.596959</td>\n",
       "      <td>4162.884308</td>\n",
       "      <td>4196.991169</td>\n",
       "      <td>4314.880456</td>\n",
       "    </tr>\n",
       "    <tr>\n",
       "      <th>min</th>\n",
       "      <td>0.000000</td>\n",
       "      <td>8.168900</td>\n",
       "      <td>68.644700</td>\n",
       "      <td>1927.000000</td>\n",
       "      <td>0.000000</td>\n",
       "      <td>0.000000</td>\n",
       "      <td>0.000000</td>\n",
       "      <td>0.000000</td>\n",
       "      <td>0.000000</td>\n",
       "    </tr>\n",
       "    <tr>\n",
       "      <th>25%</th>\n",
       "      <td>16.725000</td>\n",
       "      <td>16.773900</td>\n",
       "      <td>74.256200</td>\n",
       "      <td>1988.000000</td>\n",
       "      <td>223.557672</td>\n",
       "      <td>176.381062</td>\n",
       "      <td>188.285252</td>\n",
       "      <td>177.874930</td>\n",
       "      <td>193.378250</td>\n",
       "    </tr>\n",
       "    <tr>\n",
       "      <th>50%</th>\n",
       "      <td>59.200000</td>\n",
       "      <td>21.780000</td>\n",
       "      <td>76.719500</td>\n",
       "      <td>2001.000000</td>\n",
       "      <td>801.123775</td>\n",
       "      <td>711.181225</td>\n",
       "      <td>737.205450</td>\n",
       "      <td>817.977250</td>\n",
       "      <td>751.644375</td>\n",
       "    </tr>\n",
       "    <tr>\n",
       "      <th>75%</th>\n",
       "      <td>385.250000</td>\n",
       "      <td>25.512400</td>\n",
       "      <td>79.440800</td>\n",
       "      <td>2012.000000</td>\n",
       "      <td>3035.306250</td>\n",
       "      <td>3084.121250</td>\n",
       "      <td>3282.861313</td>\n",
       "      <td>3275.690475</td>\n",
       "      <td>3143.535900</td>\n",
       "    </tr>\n",
       "    <tr>\n",
       "      <th>max</th>\n",
       "      <td>4760.000000</td>\n",
       "      <td>34.649000</td>\n",
       "      <td>95.408000</td>\n",
       "      <td>2018.000000</td>\n",
       "      <td>28127.000000</td>\n",
       "      <td>30539.000000</td>\n",
       "      <td>30015.000000</td>\n",
       "      <td>35116.000000</td>\n",
       "      <td>35136.000000</td>\n",
       "    </tr>\n",
       "  </tbody>\n",
       "</table>\n",
       "</div>"
      ],
      "text/plain": [
       "       capacity_mw    latitude   longitude  commissioning_year  \\\n",
       "count   907.000000  861.000000  861.000000          527.000000   \n",
       "mean    326.223755   21.197918   77.464907         1997.091082   \n",
       "std     590.085456    6.239612    4.939316           17.082868   \n",
       "min       0.000000    8.168900   68.644700         1927.000000   \n",
       "25%      16.725000   16.773900   74.256200         1988.000000   \n",
       "50%      59.200000   21.780000   76.719500         2001.000000   \n",
       "75%     385.250000   25.512400   79.440800         2012.000000   \n",
       "max    4760.000000   34.649000   95.408000         2018.000000   \n",
       "\n",
       "       generation_gwh_2014  generation_gwh_2015  generation_gwh_2016  \\\n",
       "count           398.000000           422.000000           434.000000   \n",
       "mean           2431.823590          2428.226946          2467.936859   \n",
       "std            4026.440035          4194.596959          4162.884308   \n",
       "min               0.000000             0.000000             0.000000   \n",
       "25%             223.557672           176.381062           188.285252   \n",
       "50%             801.123775           711.181225           737.205450   \n",
       "75%            3035.306250          3084.121250          3282.861313   \n",
       "max           28127.000000         30539.000000         30015.000000   \n",
       "\n",
       "       generation_gwh_2017  generation_gwh_2018  \n",
       "count           440.000000           448.000000  \n",
       "mean           2547.759305          2600.804099  \n",
       "std            4196.991169          4314.880456  \n",
       "min               0.000000             0.000000  \n",
       "25%             177.874930           193.378250  \n",
       "50%             817.977250           751.644375  \n",
       "75%            3275.690475          3143.535900  \n",
       "max           35116.000000         35136.000000  "
      ]
     },
     "execution_count": 11,
     "metadata": {},
     "output_type": "execute_result"
    }
   ],
   "source": [
    "df.describe()"
   ]
  },
  {
   "cell_type": "code",
   "execution_count": 12,
   "id": "be4a139b",
   "metadata": {},
   "outputs": [
    {
     "data": {
      "text/plain": [
       "capacity_mw              0\n",
       "latitude                46\n",
       "longitude               46\n",
       "primary_fuel             0\n",
       "commissioning_year     380\n",
       "source                   0\n",
       "geolocation_source      19\n",
       "generation_gwh_2014    509\n",
       "generation_gwh_2015    485\n",
       "generation_gwh_2016    473\n",
       "generation_gwh_2017    467\n",
       "generation_gwh_2018    459\n",
       "dtype: int64"
      ]
     },
     "execution_count": 12,
     "metadata": {},
     "output_type": "execute_result"
    }
   ],
   "source": [
    "df.isnull().sum()"
   ]
  },
  {
   "cell_type": "code",
   "execution_count": 13,
   "id": "8582628d",
   "metadata": {},
   "outputs": [],
   "source": [
    "# filling missing data for continous values with mean\n",
    "df[\"latitude\"].fillna(df[\"latitude\"].mean(),inplace=True)\n",
    "df[\"longitude\"].fillna(df[\"longitude\"].mean(),inplace=True)\n",
    "\n",
    "# filling missing data for categorical values with mode\n",
    "df[\"commissioning_year\"].fillna(df[\"commissioning_year\"].mode()[0],inplace=True)\n",
    "df[\"geolocation_source\"].fillna(df[\"geolocation_source\"].mode()[0],inplace=True)\n"
   ]
  },
  {
   "cell_type": "code",
   "execution_count": 14,
   "id": "35006620",
   "metadata": {},
   "outputs": [
    {
     "name": "stderr",
     "output_type": "stream",
     "text": [
      "C:\\Users\\Subham\\AppData\\Local\\Temp\\ipykernel_7784\\1614785979.py:2: FutureWarning: Dropping of nuisance columns in DataFrame reductions (with 'numeric_only=None') is deprecated; in a future version this will raise TypeError.  Select only valid columns before calling the reduction.\n",
      "  df.fillna(df.median()[0], inplace=True)\n"
     ]
    }
   ],
   "source": [
    "# filling null values with median in numerical columns\n",
    "df.fillna(df.median()[0], inplace=True)\n"
   ]
  },
  {
   "cell_type": "code",
   "execution_count": 15,
   "id": "e15bcef3",
   "metadata": {},
   "outputs": [
    {
     "data": {
      "text/html": [
       "<div>\n",
       "<style scoped>\n",
       "    .dataframe tbody tr th:only-of-type {\n",
       "        vertical-align: middle;\n",
       "    }\n",
       "\n",
       "    .dataframe tbody tr th {\n",
       "        vertical-align: top;\n",
       "    }\n",
       "\n",
       "    .dataframe thead th {\n",
       "        text-align: right;\n",
       "    }\n",
       "</style>\n",
       "<table border=\"1\" class=\"dataframe\">\n",
       "  <thead>\n",
       "    <tr style=\"text-align: right;\">\n",
       "      <th></th>\n",
       "      <th>capacity_mw</th>\n",
       "      <th>latitude</th>\n",
       "      <th>longitude</th>\n",
       "      <th>primary_fuel</th>\n",
       "      <th>commissioning_year</th>\n",
       "      <th>source</th>\n",
       "      <th>geolocation_source</th>\n",
       "      <th>generation_gwh_2014</th>\n",
       "      <th>generation_gwh_2015</th>\n",
       "      <th>generation_gwh_2016</th>\n",
       "      <th>generation_gwh_2017</th>\n",
       "      <th>generation_gwh_2018</th>\n",
       "    </tr>\n",
       "  </thead>\n",
       "  <tbody>\n",
       "    <tr>\n",
       "      <th>0</th>\n",
       "      <td>2.5</td>\n",
       "      <td>28.1839</td>\n",
       "      <td>73.2407</td>\n",
       "      <td>Solar</td>\n",
       "      <td>2011.0</td>\n",
       "      <td>National Renewable Energy Laboratory</td>\n",
       "      <td>National Renewable Energy Laboratory</td>\n",
       "      <td>59.200000</td>\n",
       "      <td>59.200000</td>\n",
       "      <td>59.200000</td>\n",
       "      <td>59.200000</td>\n",
       "      <td>59.200000</td>\n",
       "    </tr>\n",
       "    <tr>\n",
       "      <th>1</th>\n",
       "      <td>98.0</td>\n",
       "      <td>24.7663</td>\n",
       "      <td>74.6090</td>\n",
       "      <td>Coal</td>\n",
       "      <td>2015.0</td>\n",
       "      <td>Ultratech Cement ltd</td>\n",
       "      <td>WRI</td>\n",
       "      <td>59.200000</td>\n",
       "      <td>59.200000</td>\n",
       "      <td>59.200000</td>\n",
       "      <td>59.200000</td>\n",
       "      <td>59.200000</td>\n",
       "    </tr>\n",
       "    <tr>\n",
       "      <th>2</th>\n",
       "      <td>39.2</td>\n",
       "      <td>21.9038</td>\n",
       "      <td>69.3732</td>\n",
       "      <td>Wind</td>\n",
       "      <td>2015.0</td>\n",
       "      <td>CDM</td>\n",
       "      <td>WRI</td>\n",
       "      <td>59.200000</td>\n",
       "      <td>59.200000</td>\n",
       "      <td>59.200000</td>\n",
       "      <td>59.200000</td>\n",
       "      <td>59.200000</td>\n",
       "    </tr>\n",
       "    <tr>\n",
       "      <th>3</th>\n",
       "      <td>135.0</td>\n",
       "      <td>23.8712</td>\n",
       "      <td>91.3602</td>\n",
       "      <td>Gas</td>\n",
       "      <td>2004.0</td>\n",
       "      <td>Central Electricity Authority</td>\n",
       "      <td>WRI</td>\n",
       "      <td>617.789264</td>\n",
       "      <td>843.747000</td>\n",
       "      <td>886.004428</td>\n",
       "      <td>663.774500</td>\n",
       "      <td>626.239128</td>\n",
       "    </tr>\n",
       "    <tr>\n",
       "      <th>4</th>\n",
       "      <td>1800.0</td>\n",
       "      <td>21.9603</td>\n",
       "      <td>82.4091</td>\n",
       "      <td>Coal</td>\n",
       "      <td>2015.0</td>\n",
       "      <td>Central Electricity Authority</td>\n",
       "      <td>WRI</td>\n",
       "      <td>3035.550000</td>\n",
       "      <td>5916.370000</td>\n",
       "      <td>6243.000000</td>\n",
       "      <td>5385.579736</td>\n",
       "      <td>7279.000000</td>\n",
       "    </tr>\n",
       "    <tr>\n",
       "      <th>...</th>\n",
       "      <td>...</td>\n",
       "      <td>...</td>\n",
       "      <td>...</td>\n",
       "      <td>...</td>\n",
       "      <td>...</td>\n",
       "      <td>...</td>\n",
       "      <td>...</td>\n",
       "      <td>...</td>\n",
       "      <td>...</td>\n",
       "      <td>...</td>\n",
       "      <td>...</td>\n",
       "      <td>...</td>\n",
       "    </tr>\n",
       "    <tr>\n",
       "      <th>902</th>\n",
       "      <td>1600.0</td>\n",
       "      <td>16.2949</td>\n",
       "      <td>77.3568</td>\n",
       "      <td>Coal</td>\n",
       "      <td>2016.0</td>\n",
       "      <td>Central Electricity Authority</td>\n",
       "      <td>WRI</td>\n",
       "      <td>59.200000</td>\n",
       "      <td>0.994875</td>\n",
       "      <td>233.596650</td>\n",
       "      <td>865.400000</td>\n",
       "      <td>686.500000</td>\n",
       "    </tr>\n",
       "    <tr>\n",
       "      <th>903</th>\n",
       "      <td>3.0</td>\n",
       "      <td>12.8932</td>\n",
       "      <td>78.1654</td>\n",
       "      <td>Solar</td>\n",
       "      <td>2015.0</td>\n",
       "      <td>Karnataka Power Corporation Limited</td>\n",
       "      <td>Industry About</td>\n",
       "      <td>59.200000</td>\n",
       "      <td>59.200000</td>\n",
       "      <td>59.200000</td>\n",
       "      <td>59.200000</td>\n",
       "      <td>59.200000</td>\n",
       "    </tr>\n",
       "    <tr>\n",
       "      <th>904</th>\n",
       "      <td>25.5</td>\n",
       "      <td>15.2758</td>\n",
       "      <td>75.5811</td>\n",
       "      <td>Wind</td>\n",
       "      <td>2015.0</td>\n",
       "      <td>CDM</td>\n",
       "      <td>WRI</td>\n",
       "      <td>59.200000</td>\n",
       "      <td>59.200000</td>\n",
       "      <td>59.200000</td>\n",
       "      <td>59.200000</td>\n",
       "      <td>59.200000</td>\n",
       "    </tr>\n",
       "    <tr>\n",
       "      <th>905</th>\n",
       "      <td>80.0</td>\n",
       "      <td>24.3500</td>\n",
       "      <td>73.7477</td>\n",
       "      <td>Coal</td>\n",
       "      <td>2015.0</td>\n",
       "      <td>Hindustan Zinc ltd</td>\n",
       "      <td>WRI</td>\n",
       "      <td>59.200000</td>\n",
       "      <td>59.200000</td>\n",
       "      <td>59.200000</td>\n",
       "      <td>59.200000</td>\n",
       "      <td>59.200000</td>\n",
       "    </tr>\n",
       "    <tr>\n",
       "      <th>906</th>\n",
       "      <td>16.5</td>\n",
       "      <td>9.9344</td>\n",
       "      <td>77.4768</td>\n",
       "      <td>Wind</td>\n",
       "      <td>2015.0</td>\n",
       "      <td>CDM</td>\n",
       "      <td>WRI</td>\n",
       "      <td>59.200000</td>\n",
       "      <td>59.200000</td>\n",
       "      <td>59.200000</td>\n",
       "      <td>59.200000</td>\n",
       "      <td>59.200000</td>\n",
       "    </tr>\n",
       "  </tbody>\n",
       "</table>\n",
       "<p>907 rows × 12 columns</p>\n",
       "</div>"
      ],
      "text/plain": [
       "     capacity_mw  latitude  longitude primary_fuel  commissioning_year  \\\n",
       "0            2.5   28.1839    73.2407        Solar              2011.0   \n",
       "1           98.0   24.7663    74.6090         Coal              2015.0   \n",
       "2           39.2   21.9038    69.3732         Wind              2015.0   \n",
       "3          135.0   23.8712    91.3602          Gas              2004.0   \n",
       "4         1800.0   21.9603    82.4091         Coal              2015.0   \n",
       "..           ...       ...        ...          ...                 ...   \n",
       "902       1600.0   16.2949    77.3568         Coal              2016.0   \n",
       "903          3.0   12.8932    78.1654        Solar              2015.0   \n",
       "904         25.5   15.2758    75.5811         Wind              2015.0   \n",
       "905         80.0   24.3500    73.7477         Coal              2015.0   \n",
       "906         16.5    9.9344    77.4768         Wind              2015.0   \n",
       "\n",
       "                                   source  \\\n",
       "0    National Renewable Energy Laboratory   \n",
       "1                    Ultratech Cement ltd   \n",
       "2                                     CDM   \n",
       "3           Central Electricity Authority   \n",
       "4           Central Electricity Authority   \n",
       "..                                    ...   \n",
       "902         Central Electricity Authority   \n",
       "903   Karnataka Power Corporation Limited   \n",
       "904                                   CDM   \n",
       "905                    Hindustan Zinc ltd   \n",
       "906                                   CDM   \n",
       "\n",
       "                       geolocation_source  generation_gwh_2014  \\\n",
       "0    National Renewable Energy Laboratory            59.200000   \n",
       "1                                     WRI            59.200000   \n",
       "2                                     WRI            59.200000   \n",
       "3                                     WRI           617.789264   \n",
       "4                                     WRI          3035.550000   \n",
       "..                                    ...                  ...   \n",
       "902                                   WRI            59.200000   \n",
       "903                        Industry About            59.200000   \n",
       "904                                   WRI            59.200000   \n",
       "905                                   WRI            59.200000   \n",
       "906                                   WRI            59.200000   \n",
       "\n",
       "     generation_gwh_2015  generation_gwh_2016  generation_gwh_2017  \\\n",
       "0              59.200000            59.200000            59.200000   \n",
       "1              59.200000            59.200000            59.200000   \n",
       "2              59.200000            59.200000            59.200000   \n",
       "3             843.747000           886.004428           663.774500   \n",
       "4            5916.370000          6243.000000          5385.579736   \n",
       "..                   ...                  ...                  ...   \n",
       "902             0.994875           233.596650           865.400000   \n",
       "903            59.200000            59.200000            59.200000   \n",
       "904            59.200000            59.200000            59.200000   \n",
       "905            59.200000            59.200000            59.200000   \n",
       "906            59.200000            59.200000            59.200000   \n",
       "\n",
       "     generation_gwh_2018  \n",
       "0              59.200000  \n",
       "1              59.200000  \n",
       "2              59.200000  \n",
       "3             626.239128  \n",
       "4            7279.000000  \n",
       "..                   ...  \n",
       "902           686.500000  \n",
       "903            59.200000  \n",
       "904            59.200000  \n",
       "905            59.200000  \n",
       "906            59.200000  \n",
       "\n",
       "[907 rows x 12 columns]"
      ]
     },
     "execution_count": 15,
     "metadata": {},
     "output_type": "execute_result"
    }
   ],
   "source": [
    "df"
   ]
  },
  {
   "cell_type": "code",
   "execution_count": 16,
   "id": "01438fee",
   "metadata": {},
   "outputs": [
    {
     "data": {
      "text/plain": [
       "capacity_mw            0\n",
       "latitude               0\n",
       "longitude              0\n",
       "primary_fuel           0\n",
       "commissioning_year     0\n",
       "source                 0\n",
       "geolocation_source     0\n",
       "generation_gwh_2014    0\n",
       "generation_gwh_2015    0\n",
       "generation_gwh_2016    0\n",
       "generation_gwh_2017    0\n",
       "generation_gwh_2018    0\n",
       "dtype: int64"
      ]
     },
     "execution_count": 16,
     "metadata": {},
     "output_type": "execute_result"
    }
   ],
   "source": [
    "df.isna().sum()\n"
   ]
  },
  {
   "cell_type": "markdown",
   "id": "2c1e5f5b",
   "metadata": {},
   "source": [
    "now my data looks like fair"
   ]
  },
  {
   "cell_type": "code",
   "execution_count": 17,
   "id": "f4a48714",
   "metadata": {},
   "outputs": [
    {
     "data": {
      "text/plain": [
       "Coal       258\n",
       "Hydro      251\n",
       "Solar      127\n",
       "Wind       123\n",
       "Gas         69\n",
       "Biomass     50\n",
       "Oil         20\n",
       "Nuclear      9\n",
       "Name: primary_fuel, dtype: int64"
      ]
     },
     "execution_count": 17,
     "metadata": {},
     "output_type": "execute_result"
    }
   ],
   "source": [
    "#Checking the value counts \n",
    "df[\"primary_fuel\"].value_counts()"
   ]
  },
  {
   "cell_type": "code",
   "execution_count": 18,
   "id": "4562e6d8",
   "metadata": {},
   "outputs": [
    {
     "data": {
      "text/plain": [
       "Central Electricity Authority                                  519\n",
       "CDM                                                            124\n",
       "Lancosola                                                       10\n",
       "National Renewable Energy Laboratory                             8\n",
       "National Thermal Power Corporation (NTPC)                        6\n",
       "                                                              ... \n",
       "Harsha Engineers Limited                                         1\n",
       "Godawari Energy ltd                                              1\n",
       "Sunkon Energy Private Limited                                    1\n",
       "West Bengal Energy Development Corporation Limited (WBEDCL)      1\n",
       "Yashwantrao Krishna ssk                                          1\n",
       "Name: source, Length: 191, dtype: int64"
      ]
     },
     "execution_count": 18,
     "metadata": {},
     "output_type": "execute_result"
    }
   ],
   "source": [
    "#Checking the value counts \n",
    "df[\"source\"].value_counts()"
   ]
  },
  {
   "cell_type": "code",
   "execution_count": 19,
   "id": "02f27b27",
   "metadata": {},
   "outputs": [
    {
     "data": {
      "text/plain": [
       "WRI                                     784\n",
       "Industry About                          119\n",
       "National Renewable Energy Laboratory      4\n",
       "Name: geolocation_source, dtype: int64"
      ]
     },
     "execution_count": 19,
     "metadata": {},
     "output_type": "execute_result"
    }
   ],
   "source": [
    "#Checking the value counts \n",
    "df[\"geolocation_source\"].value_counts()"
   ]
  },
  {
   "cell_type": "markdown",
   "id": "b6eb856d",
   "metadata": {},
   "source": [
    "# univariate analysis"
   ]
  },
  {
   "cell_type": "code",
   "execution_count": 20,
   "id": "a4205bab",
   "metadata": {},
   "outputs": [
    {
     "data": {
      "text/plain": [
       "<AxesSubplot:xlabel='primary_fuel', ylabel='count'>"
      ]
     },
     "execution_count": 20,
     "metadata": {},
     "output_type": "execute_result"
    },
    {
     "data": {
      "image/png": "[encoded data removed]",
      "text/plain": [
       "<Figure size 432x288 with 1 Axes>"
      ]
     },
     "metadata": {
      "needs_background": "light"
     },
     "output_type": "display_data"
    }
   ],
   "source": [
    "# checking count plot of fuel\n",
    "sns.countplot(x=\"primary_fuel\", data=df)"
   ]
  },
  {
   "cell_type": "code",
   "execution_count": 21,
   "id": "f6b3b579",
   "metadata": {},
   "outputs": [
    {
     "data": {
      "text/plain": [
       "<AxesSubplot:xlabel='geolocation_source', ylabel='count'>"
      ]
     },
     "execution_count": 21,
     "metadata": {},
     "output_type": "execute_result"
    },
    {
     "data": {
      "image/png": "[encoded data removed]",
      "text/plain": [
       "<Figure size 432x288 with 1 Axes>"
      ]
     },
     "metadata": {
      "needs_background": "light"
     },
     "output_type": "display_data"
    }
   ],
   "source": [
    "# checking count plot of fuel\n",
    "sns.countplot(x=\"geolocation_source\", data=df)"
   ]
  },
  {
   "cell_type": "code",
   "execution_count": 22,
   "id": "0532ae7e",
   "metadata": {},
   "outputs": [
    {
     "data": {
      "text/plain": [
       "<AxesSubplot:xlabel='commissioning_year', ylabel='count'>"
      ]
     },
     "execution_count": 22,
     "metadata": {},
     "output_type": "execute_result"
    },
    {
     "data": {
      "image/png": "[encoded data removed]",
      "text/plain": [
       "<Figure size 432x288 with 1 Axes>"
      ]
     },
     "metadata": {
      "needs_background": "light"
     },
     "output_type": "display_data"
    }
   ],
   "source": [
    "# checking count plot of fuel\n",
    "sns.countplot(x=\"commissioning_year\", data=df)"
   ]
  },
  {
   "cell_type": "markdown",
   "id": "e77ce925",
   "metadata": {},
   "source": [
    "# bivarite analysis"
   ]
  },
  {
   "cell_type": "code",
   "execution_count": 23,
   "id": "1abdc1bd",
   "metadata": {},
   "outputs": [
    {
     "data": {
      "text/plain": [
       "<AxesSubplot:xlabel='capacity_mw', ylabel='generation_gwh_2014'>"
      ]
     },
     "execution_count": 23,
     "metadata": {},
     "output_type": "execute_result"
    },
    {
     "data": {
      "image/png": "[encoded data removed]",
      "text/plain": [
       "<Figure size 576x288 with 1 Axes>"
      ]
     },
     "metadata": {
      "needs_background": "light"
     },
     "output_type": "display_data"
    }
   ],
   "source": [
    "plt.figure(figsize=(8,4))\n",
    "sns.scatterplot(x='capacity_mw',y='generation_gwh_2014',data=df)\n"
   ]
  },
  {
   "cell_type": "markdown",
   "id": "cc70ac90",
   "metadata": {},
   "source": [
    "We can notice here as electricity generation in gigawatt-hour increasing also increasing the no of electrical generating capacity \n",
    "in megawatts in 2014"
   ]
  },
  {
   "cell_type": "code",
   "execution_count": 24,
   "id": "2e234f68",
   "metadata": {},
   "outputs": [
    {
     "data": {
      "text/plain": [
       "<AxesSubplot:xlabel='capacity_mw', ylabel='generation_gwh_2015'>"
      ]
     },
     "execution_count": 24,
     "metadata": {},
     "output_type": "execute_result"
    },
    {
     "data": {
      "image/png": "[encoded data removed]",
      "text/plain": [
       "<Figure size 576x288 with 1 Axes>"
      ]
     },
     "metadata": {
      "needs_background": "light"
     },
     "output_type": "display_data"
    }
   ],
   "source": [
    "plt.figure(figsize=(8,4))\n",
    "sns.scatterplot(x='capacity_mw',y='generation_gwh_2015',data=df)\n"
   ]
  },
  {
   "cell_type": "markdown",
   "id": "b693a33a",
   "metadata": {},
   "source": [
    "In 2015 we can also notice here as electricity generation in gigawatt-hour increasing also increasing the no of \n",
    "electrical generating capacity in megawatts in 2015"
   ]
  },
  {
   "cell_type": "code",
   "execution_count": 25,
   "id": "87e40a93",
   "metadata": {},
   "outputs": [
    {
     "data": {
      "text/plain": [
       "<AxesSubplot:xlabel='capacity_mw', ylabel='generation_gwh_2016'>"
      ]
     },
     "execution_count": 25,
     "metadata": {},
     "output_type": "execute_result"
    },
    {
     "data": {
      "image/png": "[encoded data removed]",
      "text/plain": [
       "<Figure size 576x288 with 1 Axes>"
      ]
     },
     "metadata": {
      "needs_background": "light"
     },
     "output_type": "display_data"
    }
   ],
   "source": [
    "plt.figure(figsize=(8,4))\n",
    "sns.scatterplot(x='capacity_mw',y='generation_gwh_2016',data=df)\n"
   ]
  },
  {
   "cell_type": "markdown",
   "id": "de55380c",
   "metadata": {},
   "source": [
    "In 2016 we can also notice here as electricity generation in gigawatt-hour increasing also increasing the no of \n",
    "electrical generating capacity in megawatts in 2016"
   ]
  },
  {
   "cell_type": "code",
   "execution_count": 26,
   "id": "d0b503ff",
   "metadata": {},
   "outputs": [
    {
     "data": {
      "text/plain": [
       "<AxesSubplot:xlabel='capacity_mw', ylabel='generation_gwh_2017'>"
      ]
     },
     "execution_count": 26,
     "metadata": {},
     "output_type": "execute_result"
    },
    {
     "data": {
      "image/png": "[encoded data removed]",
      "text/plain": [
       "<Figure size 576x288 with 1 Axes>"
      ]
     },
     "metadata": {
      "needs_background": "light"
     },
     "output_type": "display_data"
    }
   ],
   "source": [
    "plt.figure(figsize=(8,4))\n",
    "sns.scatterplot(x='capacity_mw',y='generation_gwh_2017',data=df)\n"
   ]
  },
  {
   "cell_type": "markdown",
   "id": "df23c9ee",
   "metadata": {},
   "source": [
    "In 2017 we can also notice here as electricity generation in gigawatt-hour increasing also increasing the no of \n",
    "electrical generating capacity in megawatts in 2017"
   ]
  },
  {
   "cell_type": "code",
   "execution_count": 27,
   "id": "0c6824ea",
   "metadata": {},
   "outputs": [
    {
     "data": {
      "text/plain": [
       "<AxesSubplot:xlabel='capacity_mw', ylabel='generation_gwh_2018'>"
      ]
     },
     "execution_count": 27,
     "metadata": {},
     "output_type": "execute_result"
    },
    {
     "data": {
      "image/png": "[encoded data removed]",
      "text/plain": [
       "<Figure size 576x288 with 1 Axes>"
      ]
     },
     "metadata": {
      "needs_background": "light"
     },
     "output_type": "display_data"
    }
   ],
   "source": [
    "plt.figure(figsize=(8,4))\n",
    "sns.scatterplot(x='capacity_mw',y='generation_gwh_2018',data=df)\n"
   ]
  },
  {
   "cell_type": "markdown",
   "id": "9ef65338",
   "metadata": {},
   "source": [
    "In 2018 we can also notice here as electricity generation in gigawatt-hour increasing also increasing the no of \n",
    "electrical generating capacity in megawatts in 2018"
   ]
  },
  {
   "cell_type": "code",
   "execution_count": 28,
   "id": "cd5fc1a4",
   "metadata": {},
   "outputs": [
    {
     "data": {
      "image/png": "[encoded data removed]",
      "text/plain": [
       "<Figure size 432x288 with 1 Axes>"
      ]
     },
     "metadata": {
      "needs_background": "light"
     },
     "output_type": "display_data"
    }
   ],
   "source": [
    "sns.scatterplot(x = \"commissioning_year\", y = \"capacity_mw\", data = df)\n",
    "plt.show()\n"
   ]
  },
  {
   "cell_type": "markdown",
   "id": "1dfed3c8",
   "metadata": {},
   "source": [
    "by above plot we can see that as commissionong year is increases capicity also increases."
   ]
  },
  {
   "cell_type": "code",
   "execution_count": 29,
   "id": "4faf53d8",
   "metadata": {},
   "outputs": [
    {
     "data": {
      "image/png": "[encoded data removed]",
      "text/plain": [
       "<Figure size 432x288 with 1 Axes>"
      ]
     },
     "metadata": {
      "needs_background": "light"
     },
     "output_type": "display_data"
    }
   ],
   "source": [
    "sns.scatterplot(x = \"latitude\", y = \"capacity_mw\", data = df)\n",
    "plt.show()\n"
   ]
  },
  {
   "cell_type": "markdown",
   "id": "ba0cf921",
   "metadata": {},
   "source": [
    "there are no relation in above plot"
   ]
  },
  {
   "cell_type": "code",
   "execution_count": 30,
   "id": "6eee01bd",
   "metadata": {},
   "outputs": [
    {
     "data": {
      "image/png": "[encoded data removed]",
      "text/plain": [
       "<Figure size 432x288 with 1 Axes>"
      ]
     },
     "metadata": {
      "needs_background": "light"
     },
     "output_type": "display_data"
    }
   ],
   "source": [
    "sns.scatterplot(x = \"longitude\", y = \"capacity_mw\", data = df)\n",
    "plt.show()\n"
   ]
  },
  {
   "cell_type": "markdown",
   "id": "e3f9cdfe",
   "metadata": {},
   "source": [
    "there are no relation in above plot"
   ]
  },
  {
   "cell_type": "code",
   "execution_count": 31,
   "id": "ed9c9dfb",
   "metadata": {},
   "outputs": [
    {
     "data": {
      "image/png": "[encoded data removed]",
      "text/plain": [
       "<Figure size 360x360 with 1 Axes>"
      ]
     },
     "metadata": {
      "needs_background": "light"
     },
     "output_type": "display_data"
    }
   ],
   "source": [
    "\n",
    "sns.catplot(x = \"primary_fuel\", y = \"capacity_mw\", data = df)\n",
    "plt.show()\n"
   ]
  },
  {
   "cell_type": "markdown",
   "id": "44f41b82",
   "metadata": {},
   "source": [
    "in above plot we can see that coal has highest capicity "
   ]
  },
  {
   "cell_type": "code",
   "execution_count": 32,
   "id": "742d1c28",
   "metadata": {},
   "outputs": [
    {
     "data": {
      "image/png": "[encoded data removed]",
      "text/plain": [
       "<Figure size 360x360 with 1 Axes>"
      ]
     },
     "metadata": {
      "needs_background": "light"
     },
     "output_type": "display_data"
    }
   ],
   "source": [
    "sns.catplot(x = \"primary_fuel\", y = \"latitude\", data = df)\n",
    "plt.show()\n"
   ]
  },
  {
   "cell_type": "markdown",
   "id": "f36249de",
   "metadata": {},
   "source": [
    "there are no relation in above plot"
   ]
  },
  {
   "cell_type": "code",
   "execution_count": 33,
   "id": "fd099743",
   "metadata": {},
   "outputs": [
    {
     "data": {
      "image/png": "[encoded data removed]",
      "text/plain": [
       "<Figure size 360x360 with 1 Axes>"
      ]
     },
     "metadata": {
      "needs_background": "light"
     },
     "output_type": "display_data"
    }
   ],
   "source": [
    "sns.catplot(x = \"primary_fuel\", y = \"longitude\", data = df)\n",
    "plt.show()\n"
   ]
  },
  {
   "cell_type": "markdown",
   "id": "7a97ac03",
   "metadata": {},
   "source": [
    "there are no relation in above plot"
   ]
  },
  {
   "cell_type": "markdown",
   "id": "c27510d1",
   "metadata": {},
   "source": [
    "now convet object data type to int data typr using label encoder"
   ]
  },
  {
   "cell_type": "code",
   "execution_count": 34,
   "id": "d8738110",
   "metadata": {},
   "outputs": [
    {
     "data": {
      "text/html": [
       "<div>\n",
       "<style scoped>\n",
       "    .dataframe tbody tr th:only-of-type {\n",
       "        vertical-align: middle;\n",
       "    }\n",
       "\n",
       "    .dataframe tbody tr th {\n",
       "        vertical-align: top;\n",
       "    }\n",
       "\n",
       "    .dataframe thead th {\n",
       "        text-align: right;\n",
       "    }\n",
       "</style>\n",
       "<table border=\"1\" class=\"dataframe\">\n",
       "  <thead>\n",
       "    <tr style=\"text-align: right;\">\n",
       "      <th></th>\n",
       "      <th>capacity_mw</th>\n",
       "      <th>latitude</th>\n",
       "      <th>longitude</th>\n",
       "      <th>primary_fuel</th>\n",
       "      <th>commissioning_year</th>\n",
       "      <th>source</th>\n",
       "      <th>geolocation_source</th>\n",
       "      <th>generation_gwh_2014</th>\n",
       "      <th>generation_gwh_2015</th>\n",
       "      <th>generation_gwh_2016</th>\n",
       "      <th>generation_gwh_2017</th>\n",
       "      <th>generation_gwh_2018</th>\n",
       "    </tr>\n",
       "  </thead>\n",
       "  <tbody>\n",
       "    <tr>\n",
       "      <th>0</th>\n",
       "      <td>2.5</td>\n",
       "      <td>28.1839</td>\n",
       "      <td>73.2407</td>\n",
       "      <td>6</td>\n",
       "      <td>2011.0</td>\n",
       "      <td>109</td>\n",
       "      <td>1</td>\n",
       "      <td>59.200000</td>\n",
       "      <td>59.200</td>\n",
       "      <td>59.200000</td>\n",
       "      <td>59.200000</td>\n",
       "      <td>59.200000</td>\n",
       "    </tr>\n",
       "    <tr>\n",
       "      <th>1</th>\n",
       "      <td>98.0</td>\n",
       "      <td>24.7663</td>\n",
       "      <td>74.6090</td>\n",
       "      <td>1</td>\n",
       "      <td>2015.0</td>\n",
       "      <td>174</td>\n",
       "      <td>2</td>\n",
       "      <td>59.200000</td>\n",
       "      <td>59.200</td>\n",
       "      <td>59.200000</td>\n",
       "      <td>59.200000</td>\n",
       "      <td>59.200000</td>\n",
       "    </tr>\n",
       "    <tr>\n",
       "      <th>2</th>\n",
       "      <td>39.2</td>\n",
       "      <td>21.9038</td>\n",
       "      <td>69.3732</td>\n",
       "      <td>7</td>\n",
       "      <td>2015.0</td>\n",
       "      <td>21</td>\n",
       "      <td>2</td>\n",
       "      <td>59.200000</td>\n",
       "      <td>59.200</td>\n",
       "      <td>59.200000</td>\n",
       "      <td>59.200000</td>\n",
       "      <td>59.200000</td>\n",
       "    </tr>\n",
       "    <tr>\n",
       "      <th>3</th>\n",
       "      <td>135.0</td>\n",
       "      <td>23.8712</td>\n",
       "      <td>91.3602</td>\n",
       "      <td>2</td>\n",
       "      <td>2004.0</td>\n",
       "      <td>22</td>\n",
       "      <td>2</td>\n",
       "      <td>617.789264</td>\n",
       "      <td>843.747</td>\n",
       "      <td>886.004428</td>\n",
       "      <td>663.774500</td>\n",
       "      <td>626.239128</td>\n",
       "    </tr>\n",
       "    <tr>\n",
       "      <th>4</th>\n",
       "      <td>1800.0</td>\n",
       "      <td>21.9603</td>\n",
       "      <td>82.4091</td>\n",
       "      <td>1</td>\n",
       "      <td>2015.0</td>\n",
       "      <td>22</td>\n",
       "      <td>2</td>\n",
       "      <td>3035.550000</td>\n",
       "      <td>5916.370</td>\n",
       "      <td>6243.000000</td>\n",
       "      <td>5385.579736</td>\n",
       "      <td>7279.000000</td>\n",
       "    </tr>\n",
       "  </tbody>\n",
       "</table>\n",
       "</div>"
      ],
      "text/plain": [
       "   capacity_mw  latitude  longitude  primary_fuel  commissioning_year  source  \\\n",
       "0          2.5   28.1839    73.2407             6              2011.0     109   \n",
       "1         98.0   24.7663    74.6090             1              2015.0     174   \n",
       "2         39.2   21.9038    69.3732             7              2015.0      21   \n",
       "3        135.0   23.8712    91.3602             2              2004.0      22   \n",
       "4       1800.0   21.9603    82.4091             1              2015.0      22   \n",
       "\n",
       "   geolocation_source  generation_gwh_2014  generation_gwh_2015  \\\n",
       "0                   1            59.200000               59.200   \n",
       "1                   2            59.200000               59.200   \n",
       "2                   2            59.200000               59.200   \n",
       "3                   2           617.789264              843.747   \n",
       "4                   2          3035.550000             5916.370   \n",
       "\n",
       "   generation_gwh_2016  generation_gwh_2017  generation_gwh_2018  \n",
       "0            59.200000            59.200000            59.200000  \n",
       "1            59.200000            59.200000            59.200000  \n",
       "2            59.200000            59.200000            59.200000  \n",
       "3           886.004428           663.774500           626.239128  \n",
       "4          6243.000000          5385.579736          7279.000000  "
      ]
     },
     "execution_count": 34,
     "metadata": {},
     "output_type": "execute_result"
    }
   ],
   "source": [
    "# Label Encoder\n",
    "\n",
    "le = LabelEncoder()\n",
    "df[\"primary_fuel\"] = le.fit_transform(df[\"primary_fuel\"])\n",
    "df['geolocation_source'] = le.fit_transform(df['geolocation_source'])\n",
    "df['source'] = le.fit_transform(df['source'])\n",
    "df.head()"
   ]
  },
  {
   "cell_type": "markdown",
   "id": "42fbc0f3",
   "metadata": {},
   "source": [
    "# using heat map check correlation"
   ]
  },
  {
   "cell_type": "code",
   "execution_count": 35,
   "id": "547092ff",
   "metadata": {},
   "outputs": [],
   "source": [
    "dfcorr=df.corr()\n"
   ]
  },
  {
   "cell_type": "code",
   "execution_count": 36,
   "id": "0e6b314b",
   "metadata": {},
   "outputs": [
    {
     "data": {
      "text/plain": [
       "<AxesSubplot:>"
      ]
     },
     "execution_count": 36,
     "metadata": {},
     "output_type": "execute_result"
    },
    {
     "data": {
      "image/png": "[encoded data removed]",
      "text/plain": [
       "<Figure size 432x288 with 2 Axes>"
      ]
     },
     "metadata": {
      "needs_background": "light"
     },
     "output_type": "display_data"
    }
   ],
   "source": [
    "sns.heatmap(dfcorr,annot=True, linewidth=1)"
   ]
  },
  {
   "cell_type": "markdown",
   "id": "8b3d8375",
   "metadata": {},
   "source": [
    "# checking outliers"
   ]
  },
  {
   "cell_type": "markdown",
   "id": "5318cc4c",
   "metadata": {},
   "source": [
    "by the heat map we can clearly see that there are no correlation problem found"
   ]
  },
  {
   "cell_type": "code",
   "execution_count": 37,
   "id": "a027fdea",
   "metadata": {},
   "outputs": [
    {
     "data": {
      "image/png": "[encoded data removed]",
      "text/plain": [
       "<Figure size 1440x1800 with 8 Axes>"
      ]
     },
     "metadata": {
      "needs_background": "light"
     },
     "output_type": "display_data"
    }
   ],
   "source": [
    "#Visualize the outliers using boxplot\n",
    "plt.figure(figsize=(20,25)) \n",
    "graph = 1\n",
    "\n",
    "for column in df:\n",
    "    if graph<=8:\n",
    "        plt.subplot(2,4, graph)\n",
    "        ax=sns.boxplot(data= df [column])\n",
    "        plt.xlabel(column, fontsize=15)\n",
    "    graph+=1\n",
    "    \n",
    "plt.show()    \n",
    "    "
   ]
  },
  {
   "cell_type": "markdown",
   "id": "b63db5f5",
   "metadata": {},
   "source": [
    "so there are outliers present now its time to remove outliers"
   ]
  },
  {
   "cell_type": "markdown",
   "id": "e14cf756",
   "metadata": {},
   "source": [
    "# removing outliers"
   ]
  },
  {
   "cell_type": "code",
   "execution_count": 38,
   "id": "9faef1de",
   "metadata": {},
   "outputs": [
    {
     "name": "stdout",
     "output_type": "stream",
     "text": [
      "(array([ 15,  15,  15,  15,  15,  71,  80, 143, 143, 143, 143, 143, 143,\n",
      "       147, 158, 179, 183, 191, 209, 209, 209, 209, 209, 209, 222, 244,\n",
      "       299, 308, 308, 308, 308, 308, 308, 321, 323, 333, 340, 342, 345,\n",
      "       360, 363, 364, 364, 364, 364, 364, 364, 371, 375, 416, 427, 444,\n",
      "       454, 478, 482, 482, 484, 493, 493, 493, 493, 493, 493, 494, 494,\n",
      "       494, 494, 494, 494, 499, 519, 532, 538, 541, 546, 573, 577, 583,\n",
      "       601, 621, 623, 638, 648, 648, 648, 648, 648, 648, 657, 657, 657,\n",
      "       657, 657, 657, 661, 669, 689, 695, 695, 695, 695, 695, 695, 706,\n",
      "       709, 721, 721, 721, 721, 721, 724, 724, 724, 724, 724, 726, 726,\n",
      "       726, 726, 726, 726, 728, 767, 786, 786, 786, 786, 786, 786, 788,\n",
      "       807, 808, 808, 808, 808, 808, 808, 818, 832, 847, 848, 870, 871,\n",
      "       879, 880, 880, 880, 880, 880, 880, 895, 900], dtype=int64), array([ 0,  8,  9, 10, 11,  5,  5,  0,  7,  8,  9, 10, 11,  0,  7,  2,  2,\n",
      "        5,  0,  7,  8,  9, 10, 11,  4,  2,  5,  0,  7,  8,  9, 10, 11,  5,\n",
      "        2,  2,  2,  4,  5,  2,  0,  0,  7,  8,  9, 10, 11,  4,  0,  2,  2,\n",
      "        4,  4,  4,  0, 11,  4,  0,  7,  8,  9, 10, 11,  0,  7,  8,  9, 10,\n",
      "       11,  2,  2,  7,  4,  4,  2,  4,  2,  4,  4,  4,  7,  2,  0,  7,  8,\n",
      "        9, 10, 11,  0,  7,  8,  9, 10, 11,  5,  5,  5,  0,  7,  8,  9, 10,\n",
      "       11,  4,  4,  7,  8,  9, 10, 11,  7,  8,  9, 10, 11,  0,  7,  8,  9,\n",
      "       10, 11,  4,  0,  0,  7,  8,  9, 10, 11,  0,  4,  0,  7,  8,  9, 10,\n",
      "       11,  2,  5,  2,  4,  5,  5,  5,  0,  7,  8,  9, 10, 11,  5,  5],\n",
      "      dtype=int64))\n"
     ]
    }
   ],
   "source": [
    "# checking the outlirs which have high value from z score\n",
    "z=np.abs(zscore(df))\n",
    "print(np.where(z>3))\n"
   ]
  },
  {
   "cell_type": "code",
   "execution_count": 39,
   "id": "52980e04",
   "metadata": {},
   "outputs": [
    {
     "name": "stdout",
     "output_type": "stream",
     "text": [
      "Shape of the dataframe before removing outliers:  (907, 12)\n",
      "Shape of the dataframe after removing outliers:  (833, 12)\n",
      "Percentage of data loss post outlier removal:  8.158765159867695\n"
     ]
    }
   ],
   "source": [
    "# removing outlirs which have high value of z score\n",
    "z = np.abs(zscore(df))\n",
    "threshold = 3\n",
    "df1 = df[(z<3).all(axis = 1)]\n",
    "\n",
    "print (\"Shape of the dataframe before removing outliers: \", df.shape)\n",
    "print (\"Shape of the dataframe after removing outliers: \", df1.shape)\n",
    "print (\"Percentage of data loss post outlier removal: \", (df.shape[0]-df1.shape[0])/df.shape[0]*100)\n",
    "\n",
    "df=df1.copy() # reassigning the changed dataframe name to our original dataframe name"
   ]
  },
  {
   "cell_type": "markdown",
   "id": "c7952ce0",
   "metadata": {},
   "source": [
    "# Dividing Data into X and Y"
   ]
  },
  {
   "cell_type": "code",
   "execution_count": 42,
   "id": "17faa341",
   "metadata": {},
   "outputs": [],
   "source": [
    "x=df.drop(['capacity_mw'],axis=1)\n",
    "y=df['capacity_mw']\n"
   ]
  },
  {
   "cell_type": "code",
   "execution_count": 43,
   "id": "1fb0533c",
   "metadata": {},
   "outputs": [
    {
     "data": {
      "text/plain": [
       "(833, 11)"
      ]
     },
     "execution_count": 43,
     "metadata": {},
     "output_type": "execute_result"
    }
   ],
   "source": [
    "x.shape"
   ]
  },
  {
   "cell_type": "code",
   "execution_count": 44,
   "id": "bc4c1167",
   "metadata": {},
   "outputs": [
    {
     "data": {
      "text/plain": [
       "(833,)"
      ]
     },
     "execution_count": 44,
     "metadata": {},
     "output_type": "execute_result"
    }
   ],
   "source": [
    "y.shape"
   ]
  },
  {
   "cell_type": "markdown",
   "id": "995815c1",
   "metadata": {},
   "source": [
    "# Scaling X values"
   ]
  },
  {
   "cell_type": "code",
   "execution_count": 45,
   "id": "4b0a6649",
   "metadata": {},
   "outputs": [
    {
     "data": {
      "text/html": [
       "<div>\n",
       "<style scoped>\n",
       "    .dataframe tbody tr th:only-of-type {\n",
       "        vertical-align: middle;\n",
       "    }\n",
       "\n",
       "    .dataframe tbody tr th {\n",
       "        vertical-align: top;\n",
       "    }\n",
       "\n",
       "    .dataframe thead th {\n",
       "        text-align: right;\n",
       "    }\n",
       "</style>\n",
       "<table border=\"1\" class=\"dataframe\">\n",
       "  <thead>\n",
       "    <tr style=\"text-align: right;\">\n",
       "      <th></th>\n",
       "      <th>latitude</th>\n",
       "      <th>longitude</th>\n",
       "      <th>primary_fuel</th>\n",
       "      <th>commissioning_year</th>\n",
       "      <th>source</th>\n",
       "      <th>geolocation_source</th>\n",
       "      <th>generation_gwh_2014</th>\n",
       "      <th>generation_gwh_2015</th>\n",
       "      <th>generation_gwh_2016</th>\n",
       "      <th>generation_gwh_2017</th>\n",
       "      <th>generation_gwh_2018</th>\n",
       "    </tr>\n",
       "  </thead>\n",
       "  <tbody>\n",
       "    <tr>\n",
       "      <th>0</th>\n",
       "      <td>1.153959</td>\n",
       "      <td>-0.886974</td>\n",
       "      <td>1.168658</td>\n",
       "      <td>0.379969</td>\n",
       "      <td>1.572182</td>\n",
       "      <td>-1.054576</td>\n",
       "      <td>-0.440702</td>\n",
       "      <td>-0.454301</td>\n",
       "      <td>-0.463956</td>\n",
       "      <td>-0.472159</td>\n",
       "      <td>-0.471889</td>\n",
       "    </tr>\n",
       "    <tr>\n",
       "      <th>1</th>\n",
       "      <td>0.597055</td>\n",
       "      <td>-0.569521</td>\n",
       "      <td>-0.992737</td>\n",
       "      <td>0.666472</td>\n",
       "      <td>3.115127</td>\n",
       "      <td>0.402243</td>\n",
       "      <td>-0.440702</td>\n",
       "      <td>-0.454301</td>\n",
       "      <td>-0.463956</td>\n",
       "      <td>-0.472159</td>\n",
       "      <td>-0.471889</td>\n",
       "    </tr>\n",
       "    <tr>\n",
       "      <th>2</th>\n",
       "      <td>0.130605</td>\n",
       "      <td>-1.784255</td>\n",
       "      <td>1.600937</td>\n",
       "      <td>0.666472</td>\n",
       "      <td>-0.516728</td>\n",
       "      <td>0.402243</td>\n",
       "      <td>-0.440702</td>\n",
       "      <td>-0.454301</td>\n",
       "      <td>-0.463956</td>\n",
       "      <td>-0.472159</td>\n",
       "      <td>-0.471889</td>\n",
       "    </tr>\n",
       "    <tr>\n",
       "      <th>3</th>\n",
       "      <td>0.451197</td>\n",
       "      <td>3.316849</td>\n",
       "      <td>-0.560458</td>\n",
       "      <td>-0.121411</td>\n",
       "      <td>-0.492990</td>\n",
       "      <td>0.402243</td>\n",
       "      <td>-0.102980</td>\n",
       "      <td>0.011562</td>\n",
       "      <td>0.008395</td>\n",
       "      <td>-0.138594</td>\n",
       "      <td>-0.167715</td>\n",
       "    </tr>\n",
       "    <tr>\n",
       "      <th>4</th>\n",
       "      <td>0.139812</td>\n",
       "      <td>1.240145</td>\n",
       "      <td>-0.992737</td>\n",
       "      <td>0.666472</td>\n",
       "      <td>-0.492990</td>\n",
       "      <td>0.402243</td>\n",
       "      <td>1.358793</td>\n",
       "      <td>3.023680</td>\n",
       "      <td>3.068831</td>\n",
       "      <td>2.466592</td>\n",
       "      <td>3.400992</td>\n",
       "    </tr>\n",
       "  </tbody>\n",
       "</table>\n",
       "</div>"
      ],
      "text/plain": [
       "   latitude  longitude  primary_fuel  commissioning_year    source  \\\n",
       "0  1.153959  -0.886974      1.168658            0.379969  1.572182   \n",
       "1  0.597055  -0.569521     -0.992737            0.666472  3.115127   \n",
       "2  0.130605  -1.784255      1.600937            0.666472 -0.516728   \n",
       "3  0.451197   3.316849     -0.560458           -0.121411 -0.492990   \n",
       "4  0.139812   1.240145     -0.992737            0.666472 -0.492990   \n",
       "\n",
       "   geolocation_source  generation_gwh_2014  generation_gwh_2015  \\\n",
       "0           -1.054576            -0.440702            -0.454301   \n",
       "1            0.402243            -0.440702            -0.454301   \n",
       "2            0.402243            -0.440702            -0.454301   \n",
       "3            0.402243            -0.102980             0.011562   \n",
       "4            0.402243             1.358793             3.023680   \n",
       "\n",
       "   generation_gwh_2016  generation_gwh_2017  generation_gwh_2018  \n",
       "0            -0.463956            -0.472159            -0.471889  \n",
       "1            -0.463956            -0.472159            -0.471889  \n",
       "2            -0.463956            -0.472159            -0.471889  \n",
       "3             0.008395            -0.138594            -0.167715  \n",
       "4             3.068831             2.466592             3.400992  "
      ]
     },
     "execution_count": 45,
     "metadata": {},
     "output_type": "execute_result"
    }
   ],
   "source": [
    "scaler = StandardScaler()\n",
    "X = pd.DataFrame(scaler.fit_transform(x), columns=x.columns)\n",
    "X.head() # Displaying all the features after applying scaling technique to avoid bias output\n"
   ]
  },
  {
   "cell_type": "markdown",
   "id": "5ba80388",
   "metadata": {},
   "source": [
    "# MODEL BUILDING:"
   ]
  },
  {
   "cell_type": "markdown",
   "id": "ea32eb55",
   "metadata": {},
   "source": [
    "# Linear Regression"
   ]
  },
  {
   "cell_type": "markdown",
   "id": "eab84645",
   "metadata": {},
   "source": [
    "CHECKING THE BEST RANDOM STATE FOR DATA SPLIT"
   ]
  },
  {
   "cell_type": "code",
   "execution_count": 46,
   "id": "c889ff5f",
   "metadata": {},
   "outputs": [
    {
     "name": "stdout",
     "output_type": "stream",
     "text": [
      "At random state 0, The training accuracy is: 0.7765213414187773\n",
      "At random state 0, The test accuracy is: 0.5066312015546315\n",
      "\n",
      "\n",
      "At random state 1, The training accuracy is: 0.7199993957272344\n",
      "At random state 1, The test accuracy is: 0.8266872160753596\n",
      "\n",
      "\n",
      "At random state 2, The training accuracy is: 0.7453141315408094\n",
      "At random state 2, The test accuracy is: 0.7272967125281772\n",
      "\n",
      "\n",
      "At random state 3, The training accuracy is: 0.7729082775075942\n",
      "At random state 3, The test accuracy is: 0.6269721846866708\n",
      "\n",
      "\n",
      "At random state 4, The training accuracy is: 0.7440958484925961\n",
      "At random state 4, The test accuracy is: 0.7186750497027603\n",
      "\n",
      "\n",
      "At random state 5, The training accuracy is: 0.7450425623899855\n",
      "At random state 5, The test accuracy is: 0.7110344927427728\n",
      "\n",
      "\n",
      "At random state 6, The training accuracy is: 0.7396063634929926\n",
      "At random state 6, The test accuracy is: 0.7383606470321343\n",
      "\n",
      "\n",
      "At random state 7, The training accuracy is: 0.7530932016726434\n",
      "At random state 7, The test accuracy is: 0.6930681695210446\n",
      "\n",
      "\n",
      "At random state 8, The training accuracy is: 0.7332952028640807\n",
      "At random state 8, The test accuracy is: 0.7781445625848052\n",
      "\n",
      "\n",
      "At random state 9, The training accuracy is: 0.7273569696206311\n",
      "At random state 9, The test accuracy is: 0.7985910506571272\n",
      "\n",
      "\n",
      "At random state 10, The training accuracy is: 0.7228647525652294\n",
      "At random state 10, The test accuracy is: 0.832024727571681\n",
      "\n",
      "\n",
      "At random state 11, The training accuracy is: 0.7303815656964205\n",
      "At random state 11, The test accuracy is: 0.7951930516888471\n",
      "\n",
      "\n",
      "At random state 12, The training accuracy is: 0.743128917419922\n",
      "At random state 12, The test accuracy is: 0.7352461416560325\n",
      "\n",
      "\n",
      "At random state 13, The training accuracy is: 0.7192653010298045\n",
      "At random state 13, The test accuracy is: 0.8064257991904527\n",
      "\n",
      "\n",
      "At random state 14, The training accuracy is: 0.7412297307229214\n",
      "At random state 14, The test accuracy is: 0.7450337425387311\n",
      "\n",
      "\n",
      "At random state 15, The training accuracy is: 0.7396888547409393\n",
      "At random state 15, The test accuracy is: 0.7430874559044436\n",
      "\n",
      "\n",
      "At random state 16, The training accuracy is: 0.7391474257048457\n",
      "At random state 16, The test accuracy is: 0.7529361011045549\n",
      "\n",
      "\n",
      "At random state 17, The training accuracy is: 0.7437475477405167\n",
      "At random state 17, The test accuracy is: 0.7357073899608919\n",
      "\n",
      "\n",
      "At random state 18, The training accuracy is: 0.7747720173823472\n",
      "At random state 18, The test accuracy is: 0.614436156828976\n",
      "\n",
      "\n",
      "At random state 19, The training accuracy is: 0.7611424760155839\n",
      "At random state 19, The test accuracy is: 0.6669309464752556\n",
      "\n",
      "\n",
      "At random state 20, The training accuracy is: 0.7494403968643412\n",
      "At random state 20, The test accuracy is: 0.715955908039855\n",
      "\n",
      "\n",
      "At random state 21, The training accuracy is: 0.7473453139885724\n",
      "At random state 21, The test accuracy is: 0.7105446236480322\n",
      "\n",
      "\n",
      "At random state 22, The training accuracy is: 0.7419051647503768\n",
      "At random state 22, The test accuracy is: 0.7289784468293116\n",
      "\n",
      "\n",
      "At random state 23, The training accuracy is: 0.7437779665298028\n",
      "At random state 23, The test accuracy is: 0.7318118824506252\n",
      "\n",
      "\n",
      "At random state 24, The training accuracy is: 0.7426447724307903\n",
      "At random state 24, The test accuracy is: 0.7379104868763557\n",
      "\n",
      "\n",
      "At random state 25, The training accuracy is: 0.7318831533994802\n",
      "At random state 25, The test accuracy is: 0.7661466368152258\n",
      "\n",
      "\n",
      "At random state 26, The training accuracy is: 0.7321503385420527\n",
      "At random state 26, The test accuracy is: 0.7705706702221439\n",
      "\n",
      "\n",
      "At random state 27, The training accuracy is: 0.7504545864811736\n",
      "At random state 27, The test accuracy is: 0.6993661648240164\n",
      "\n",
      "\n",
      "At random state 28, The training accuracy is: 0.7391020299814772\n",
      "At random state 28, The test accuracy is: 0.749413289816428\n",
      "\n",
      "\n",
      "At random state 29, The training accuracy is: 0.7571707283920345\n",
      "At random state 29, The test accuracy is: 0.6828299560364435\n",
      "\n",
      "\n",
      "At random state 30, The training accuracy is: 0.763828727539796\n",
      "At random state 30, The test accuracy is: 0.6492801568555617\n",
      "\n",
      "\n",
      "At random state 31, The training accuracy is: 0.7385277450292018\n",
      "At random state 31, The test accuracy is: 0.7576476766514506\n",
      "\n",
      "\n",
      "At random state 32, The training accuracy is: 0.7651894443882766\n",
      "At random state 32, The test accuracy is: 0.6099533466277889\n",
      "\n",
      "\n",
      "At random state 33, The training accuracy is: 0.7396633107199111\n",
      "At random state 33, The test accuracy is: 0.7433651862702321\n",
      "\n",
      "\n",
      "At random state 34, The training accuracy is: 0.7450384545256952\n",
      "At random state 34, The test accuracy is: 0.7331211045179817\n",
      "\n",
      "\n",
      "At random state 35, The training accuracy is: 0.7376862587706767\n",
      "At random state 35, The test accuracy is: 0.7646744953189034\n",
      "\n",
      "\n",
      "At random state 36, The training accuracy is: 0.7452809198945435\n",
      "At random state 36, The test accuracy is: 0.7267147949876813\n",
      "\n",
      "\n",
      "At random state 37, The training accuracy is: 0.7318018367445\n",
      "At random state 37, The test accuracy is: 0.7704304241347228\n",
      "\n",
      "\n",
      "At random state 38, The training accuracy is: 0.7445519526666129\n",
      "At random state 38, The test accuracy is: 0.7238369305092842\n",
      "\n",
      "\n",
      "At random state 39, The training accuracy is: 0.7446014952073546\n",
      "At random state 39, The test accuracy is: 0.7249111391645107\n",
      "\n",
      "\n",
      "At random state 40, The training accuracy is: 0.7125785076164244\n",
      "At random state 40, The test accuracy is: 0.8498801693616764\n",
      "\n",
      "\n",
      "At random state 41, The training accuracy is: 0.7390219002171299\n",
      "At random state 41, The test accuracy is: 0.7553027187790259\n",
      "\n",
      "\n",
      "At random state 42, The training accuracy is: 0.7527419990016827\n",
      "At random state 42, The test accuracy is: 0.6980211302931512\n",
      "\n",
      "\n",
      "At random state 43, The training accuracy is: 0.7685415785315978\n",
      "At random state 43, The test accuracy is: 0.6512142559026797\n",
      "\n",
      "\n",
      "At random state 44, The training accuracy is: 0.7336022795691619\n",
      "At random state 44, The test accuracy is: 0.7837782960469213\n",
      "\n",
      "\n",
      "At random state 45, The training accuracy is: 0.7842171836562427\n",
      "At random state 45, The test accuracy is: 0.5761848382957957\n",
      "\n",
      "\n",
      "At random state 46, The training accuracy is: 0.73453757388853\n",
      "At random state 46, The test accuracy is: 0.7728729211900367\n",
      "\n",
      "\n",
      "At random state 47, The training accuracy is: 0.7451070125604468\n",
      "At random state 47, The test accuracy is: 0.7258356331395122\n",
      "\n",
      "\n",
      "At random state 48, The training accuracy is: 0.7527957628871258\n",
      "At random state 48, The test accuracy is: 0.7046259585081347\n",
      "\n",
      "\n",
      "At random state 49, The training accuracy is: 0.7414353761970447\n",
      "At random state 49, The test accuracy is: 0.7371850636821762\n",
      "\n",
      "\n",
      "At random state 50, The training accuracy is: 0.7353808705105833\n",
      "At random state 50, The test accuracy is: 0.7628682485084415\n",
      "\n",
      "\n",
      "At random state 51, The training accuracy is: 0.737046312333086\n",
      "At random state 51, The test accuracy is: 0.7471675336967151\n",
      "\n",
      "\n",
      "At random state 52, The training accuracy is: 0.7259753659874733\n",
      "At random state 52, The test accuracy is: 0.7921714317123647\n",
      "\n",
      "\n",
      "At random state 53, The training accuracy is: 0.7500195385772986\n",
      "At random state 53, The test accuracy is: 0.6876759732967359\n",
      "\n",
      "\n",
      "At random state 54, The training accuracy is: 0.7424947547689527\n",
      "At random state 54, The test accuracy is: 0.7434792686133926\n",
      "\n",
      "\n",
      "At random state 55, The training accuracy is: 0.7513902561525427\n",
      "At random state 55, The test accuracy is: 0.7073943563591614\n",
      "\n",
      "\n",
      "At random state 56, The training accuracy is: 0.741554143969688\n",
      "At random state 56, The test accuracy is: 0.7314867018904062\n",
      "\n",
      "\n",
      "At random state 57, The training accuracy is: 0.7441966483084068\n",
      "At random state 57, The test accuracy is: 0.7338660804614358\n",
      "\n",
      "\n",
      "At random state 58, The training accuracy is: 0.7380908242072459\n",
      "At random state 58, The test accuracy is: 0.7579856100756437\n",
      "\n",
      "\n",
      "At random state 59, The training accuracy is: 0.7372714050665945\n",
      "At random state 59, The test accuracy is: 0.7641590901419832\n",
      "\n",
      "\n",
      "At random state 60, The training accuracy is: 0.7596067690877144\n",
      "At random state 60, The test accuracy is: 0.6811821355918013\n",
      "\n",
      "\n",
      "At random state 61, The training accuracy is: 0.7287229132499733\n",
      "At random state 61, The test accuracy is: 0.790508412714205\n",
      "\n",
      "\n",
      "At random state 62, The training accuracy is: 0.7439333201879804\n",
      "At random state 62, The test accuracy is: 0.7331279762346533\n",
      "\n",
      "\n",
      "At random state 63, The training accuracy is: 0.7353282118056597\n",
      "At random state 63, The test accuracy is: 0.7606614706138809\n",
      "\n",
      "\n",
      "At random state 64, The training accuracy is: 0.751360017531156\n",
      "At random state 64, The test accuracy is: 0.7072494874461919\n",
      "\n",
      "\n",
      "At random state 65, The training accuracy is: 0.74183545475879\n",
      "At random state 65, The test accuracy is: 0.7428245700451999\n",
      "\n",
      "\n",
      "At random state 66, The training accuracy is: 0.7499784337464785\n",
      "At random state 66, The test accuracy is: 0.7100535754902562\n",
      "\n",
      "\n",
      "At random state 67, The training accuracy is: 0.7230875622037487\n",
      "At random state 67, The test accuracy is: 0.8012065599337915\n",
      "\n",
      "\n"
     ]
    },
    {
     "name": "stdout",
     "output_type": "stream",
     "text": [
      "At random state 68, The training accuracy is: 0.7440744331317128\n",
      "At random state 68, The test accuracy is: 0.7289012412685931\n",
      "\n",
      "\n",
      "At random state 69, The training accuracy is: 0.7660417815354725\n",
      "At random state 69, The test accuracy is: 0.6475129264367683\n",
      "\n",
      "\n",
      "At random state 70, The training accuracy is: 0.725037174190196\n",
      "At random state 70, The test accuracy is: 0.795992412984902\n",
      "\n",
      "\n",
      "At random state 71, The training accuracy is: 0.7464261507230842\n",
      "At random state 71, The test accuracy is: 0.7192865044520695\n",
      "\n",
      "\n",
      "At random state 72, The training accuracy is: 0.7470493751300679\n",
      "At random state 72, The test accuracy is: 0.7241495069033368\n",
      "\n",
      "\n",
      "At random state 73, The training accuracy is: 0.7393091830130332\n",
      "At random state 73, The test accuracy is: 0.742457805019015\n",
      "\n",
      "\n",
      "At random state 74, The training accuracy is: 0.7669994546729713\n",
      "At random state 74, The test accuracy is: 0.5461351949552569\n",
      "\n",
      "\n",
      "At random state 75, The training accuracy is: 0.7383778513284336\n",
      "At random state 75, The test accuracy is: 0.7115472510362231\n",
      "\n",
      "\n",
      "At random state 76, The training accuracy is: 0.7444651238943656\n",
      "At random state 76, The test accuracy is: 0.7283872934048681\n",
      "\n",
      "\n",
      "At random state 77, The training accuracy is: 0.7552539246747415\n",
      "At random state 77, The test accuracy is: 0.6918709809010337\n",
      "\n",
      "\n",
      "At random state 78, The training accuracy is: 0.7505290609610373\n",
      "At random state 78, The test accuracy is: 0.711670113196322\n",
      "\n",
      "\n",
      "At random state 79, The training accuracy is: 0.7452686933257677\n",
      "At random state 79, The test accuracy is: 0.7173193342836799\n",
      "\n",
      "\n",
      "At random state 80, The training accuracy is: 0.751007656949726\n",
      "At random state 80, The test accuracy is: 0.6958402893901945\n",
      "\n",
      "\n",
      "At random state 81, The training accuracy is: 0.7476558314998907\n",
      "At random state 81, The test accuracy is: 0.7117709285715997\n",
      "\n",
      "\n",
      "At random state 82, The training accuracy is: 0.7200071547921014\n",
      "At random state 82, The test accuracy is: 0.7821994007151434\n",
      "\n",
      "\n",
      "At random state 83, The training accuracy is: 0.7593545630801515\n",
      "At random state 83, The test accuracy is: 0.6797997349260915\n",
      "\n",
      "\n",
      "At random state 84, The training accuracy is: 0.7445955875931067\n",
      "At random state 84, The test accuracy is: 0.7300316925985395\n",
      "\n",
      "\n",
      "At random state 85, The training accuracy is: 0.7312713636129334\n",
      "At random state 85, The test accuracy is: 0.791479120707376\n",
      "\n",
      "\n",
      "At random state 86, The training accuracy is: 0.7426265401805863\n",
      "At random state 86, The test accuracy is: 0.7395708662328058\n",
      "\n",
      "\n",
      "At random state 87, The training accuracy is: 0.7445460049105803\n",
      "At random state 87, The test accuracy is: 0.7281930114828488\n",
      "\n",
      "\n",
      "At random state 88, The training accuracy is: 0.7585906831315085\n",
      "At random state 88, The test accuracy is: 0.6717305714405346\n",
      "\n",
      "\n",
      "At random state 89, The training accuracy is: 0.7772483072800183\n",
      "At random state 89, The test accuracy is: 0.6131035113686515\n",
      "\n",
      "\n",
      "At random state 90, The training accuracy is: 0.7609067644069459\n",
      "At random state 90, The test accuracy is: 0.6614701162232612\n",
      "\n",
      "\n",
      "At random state 91, The training accuracy is: 0.7544434037687364\n",
      "At random state 91, The test accuracy is: 0.6926788117977714\n",
      "\n",
      "\n",
      "At random state 92, The training accuracy is: 0.7205705912109643\n",
      "At random state 92, The test accuracy is: 0.8448907272609795\n",
      "\n",
      "\n",
      "At random state 93, The training accuracy is: 0.7445655318457636\n",
      "At random state 93, The test accuracy is: 0.7075320026176097\n",
      "\n",
      "\n",
      "At random state 94, The training accuracy is: 0.7351565079888421\n",
      "At random state 94, The test accuracy is: 0.7729361649358572\n",
      "\n",
      "\n",
      "At random state 95, The training accuracy is: 0.756109881636141\n",
      "At random state 95, The test accuracy is: 0.6902556674019915\n",
      "\n",
      "\n",
      "At random state 96, The training accuracy is: 0.742888106704714\n",
      "At random state 96, The test accuracy is: 0.7381931484648827\n",
      "\n",
      "\n",
      "At random state 97, The training accuracy is: 0.7421562583388893\n",
      "At random state 97, The test accuracy is: 0.7366312756480579\n",
      "\n",
      "\n",
      "At random state 98, The training accuracy is: 0.7328416595761146\n",
      "At random state 98, The test accuracy is: 0.7861830735187247\n",
      "\n",
      "\n",
      "At random state 99, The training accuracy is: 0.7299266330031979\n",
      "At random state 99, The test accuracy is: 0.7959005508685373\n",
      "\n",
      "\n"
     ]
    }
   ],
   "source": [
    "LR=LinearRegression()\n",
    "\n",
    "for i in range(0,100):\n",
    "    x_train,x_test,y_train,y_test=train_test_split(x,y,test_size=0.2,random_state=i)\n",
    "    LR.fit(x_train,y_train)\n",
    "    LR_predict_train=LR.predict(x_train)\n",
    "    LR_predict_test=LR.predict(x_test)\n",
    "    print(f'At random state {i}, The training accuracy is: {r2_score(y_train,LR_predict_train)}')\n",
    "    print(f'At random state {i}, The test accuracy is: {r2_score(y_test,LR_predict_test)}')\n",
    "    print('\\n')\n",
    "\n"
   ]
  },
  {
   "cell_type": "markdown",
   "id": "d36cc41f",
   "metadata": {},
   "source": [
    "random state=40 giving highest accuracy, choosing that as random state"
   ]
  },
  {
   "cell_type": "markdown",
   "id": "d28f0e87",
   "metadata": {},
   "source": [
    "Splitting the data into 73% training and 27% testing"
   ]
  },
  {
   "cell_type": "code",
   "execution_count": 47,
   "id": "e4573814",
   "metadata": {},
   "outputs": [],
   "source": [
    "x_train,x_test,y_train,y_test=train_test_split(x,y,test_size=0.27,random_state=40)\n"
   ]
  },
  {
   "cell_type": "code",
   "execution_count": 48,
   "id": "4aef081e",
   "metadata": {},
   "outputs": [
    {
     "name": "stdout",
     "output_type": "stream",
     "text": [
      "0.705547999534573\n"
     ]
    }
   ],
   "source": [
    "LR=LinearRegression()\n",
    "LR.fit(x_train,y_train)\n",
    "print(LR.score(x_train,y_train))\n",
    "LR_predict=LR.predict(x_test)\n"
   ]
  },
  {
   "cell_type": "code",
   "execution_count": 49,
   "id": "21b78605",
   "metadata": {},
   "outputs": [
    {
     "name": "stdout",
     "output_type": "stream",
     "text": [
      "MSE: 26486.81956778364\n",
      "MAE: 115.73608856966418\n",
      "r2_score: 0.817336417018795\n"
     ]
    }
   ],
   "source": [
    "print('MSE:',mean_squared_error(LR_predict,y_test))\n",
    "print('MAE:',mean_absolute_error(LR_predict,y_test))\n",
    "print('r2_score:',r2_score(LR_predict,y_test))\n"
   ]
  },
  {
   "cell_type": "markdown",
   "id": "4e452e53",
   "metadata": {},
   "source": [
    "r2_score is good but MSE & MAE NOT GOOD SO we will use ridge"
   ]
  },
  {
   "cell_type": "markdown",
   "id": "52e1ab99",
   "metadata": {},
   "source": [
    "# Ridge"
   ]
  },
  {
   "cell_type": "code",
   "execution_count": 50,
   "id": "18f93d2d",
   "metadata": {},
   "outputs": [
    {
     "name": "stdout",
     "output_type": "stream",
     "text": [
      "0.7055479851849975\n"
     ]
    }
   ],
   "source": [
    "R=Ridge()\n",
    "R.fit(x_train,y_train)\n",
    "print(R.score(x_train,y_train))\n",
    "R_predict=R.predict(x_test)\n",
    "\n",
    "\n",
    "     "
   ]
  },
  {
   "cell_type": "code",
   "execution_count": 51,
   "id": "8fe907ba",
   "metadata": {},
   "outputs": [
    {
     "name": "stdout",
     "output_type": "stream",
     "text": [
      "MSE: 26486.4407807915\n",
      "MAE: 115.73334125705486\n",
      "r2_score: 0.817337631326527\n"
     ]
    }
   ],
   "source": [
    "print('MSE:',mean_squared_error(R_predict,y_test))\n",
    "print('MAE:',mean_absolute_error(R_predict,y_test))\n",
    "print('r2_score:',r2_score(R_predict,y_test))\n"
   ]
  },
  {
   "cell_type": "markdown",
   "id": "32affd6d",
   "metadata": {},
   "source": [
    "no effect on errors"
   ]
  },
  {
   "cell_type": "markdown",
   "id": "ed086254",
   "metadata": {},
   "source": [
    "# RandomForestRegressor"
   ]
  },
  {
   "cell_type": "code",
   "execution_count": 52,
   "id": "a3cb4fa7",
   "metadata": {},
   "outputs": [
    {
     "name": "stdout",
     "output_type": "stream",
     "text": [
      "0.9668787341176064\n"
     ]
    }
   ],
   "source": [
    "RF=RandomForestRegressor()\n",
    "RF.fit(x_train,y_train)\n",
    "print(RF.score(x_train,y_train))\n",
    "RF_PRED=RF.predict(x_test)\n",
    "\n"
   ]
  },
  {
   "cell_type": "code",
   "execution_count": 53,
   "id": "1aa45d19",
   "metadata": {},
   "outputs": [
    {
     "name": "stdout",
     "output_type": "stream",
     "text": [
      "MSE: 24366.827515780802\n",
      "MAE: 83.61575626581639\n",
      "r2_score: 0.8362254213026078\n"
     ]
    }
   ],
   "source": [
    "print('MSE:',mean_squared_error(RF_PRED,y_test))\n",
    "print('MAE:',mean_absolute_error(RF_PRED,y_test))\n",
    "print('r2_score:',r2_score(RF_PRED,y_test))\n"
   ]
  },
  {
   "cell_type": "markdown",
   "id": "45fab06d",
   "metadata": {},
   "source": [
    "my accuray is good but errors are high"
   ]
  },
  {
   "cell_type": "markdown",
   "id": "26747710",
   "metadata": {},
   "source": [
    "# DecisionTreeRegressor"
   ]
  },
  {
   "cell_type": "code",
   "execution_count": 54,
   "id": "d71bd68b",
   "metadata": {},
   "outputs": [
    {
     "name": "stdout",
     "output_type": "stream",
     "text": [
      "0.9998582561370726\n"
     ]
    }
   ],
   "source": [
    "DTR=DecisionTreeRegressor()\n",
    "DTR.fit(x_train,y_train)\n",
    "print(DTR.score(x_train,y_train))\n",
    "DTR_PRED=DTR.predict(x_test)"
   ]
  },
  {
   "cell_type": "code",
   "execution_count": 55,
   "id": "ee7089bb",
   "metadata": {},
   "outputs": [
    {
     "name": "stdout",
     "output_type": "stream",
     "text": [
      "MSE: 35372.46704936334\n",
      "MAE: 99.72943777777779\n",
      "r2_score: 0.8006580969870704\n"
     ]
    }
   ],
   "source": [
    "print('MSE:',mean_squared_error(DTR_PRED,y_test))\n",
    "print('MAE:',mean_absolute_error(DTR_PRED,y_test))\n",
    "print('r2_score:',r2_score(DTR_PRED,y_test))\n"
   ]
  },
  {
   "cell_type": "markdown",
   "id": "04bd446e",
   "metadata": {},
   "source": [
    "# GradientBoostingRegressor"
   ]
  },
  {
   "cell_type": "code",
   "execution_count": 56,
   "id": "a8c1d7c0",
   "metadata": {},
   "outputs": [
    {
     "name": "stdout",
     "output_type": "stream",
     "text": [
      "0.9570611415955674\n"
     ]
    }
   ],
   "source": [
    "GBR=GradientBoostingRegressor()\n",
    "GBR.fit(x_train,y_train)\n",
    "print(GBR.score(x_train,y_train))\n",
    "GBR_PRED=GBR.predict(x_test)\n"
   ]
  },
  {
   "cell_type": "code",
   "execution_count": 57,
   "id": "8998dce4",
   "metadata": {},
   "outputs": [
    {
     "name": "stdout",
     "output_type": "stream",
     "text": [
      "0.9570611415955674\n"
     ]
    }
   ],
   "source": [
    "GBR=GradientBoostingRegressor()\n",
    "GBR.fit(x_train,y_train)\n",
    "print(GBR.score(x_train,y_train))\n",
    "GBR_PRED=GBR.predict(x_test)\n"
   ]
  },
  {
   "cell_type": "code",
   "execution_count": 58,
   "id": "c5d2bff1",
   "metadata": {},
   "outputs": [
    {
     "name": "stdout",
     "output_type": "stream",
     "text": [
      "MSE: 25485.252785515873\n",
      "MAE: 86.07622382435231\n",
      "r2_score: 0.8325160643296109\n"
     ]
    }
   ],
   "source": [
    "print('MSE:',mean_squared_error(GBR_PRED,y_test))\n",
    "print('MAE:',mean_absolute_error(GBR_PRED,y_test))\n",
    "print('r2_score:',r2_score(GBR_PRED,y_test))\n"
   ]
  },
  {
   "cell_type": "markdown",
   "id": "a0c3fb59",
   "metadata": {},
   "source": [
    "# Cross Validation"
   ]
  },
  {
   "cell_type": "code",
   "execution_count": 59,
   "id": "91468ee9",
   "metadata": {},
   "outputs": [
    {
     "name": "stdout",
     "output_type": "stream",
     "text": [
      "LR    : 49260.615575, 25351.273461\n",
      "R    : 49260.281271, 25350.622804\n",
      "RF    : 40754.664567, 23119.037780\n",
      "DTR    : 74984.742335, 21974.352420\n",
      "GBR    : 48615.150617, 27687.982224\n"
     ]
    }
   ],
   "source": [
    "np.random.seed(10)\n",
    "def rmse_cv(model, x,y):\n",
    "    rmse =- (cross_val_score(model, x,y, scoring='neg_mean_squared_error', cv=10))\n",
    "    return(rmse)\n",
    "\n",
    "\n",
    "models = [LinearRegression(),\n",
    "             Ridge(),\n",
    "             RandomForestRegressor(),\n",
    "             DecisionTreeRegressor(),  \n",
    "             GradientBoostingRegressor(),]\n",
    "            \n",
    "\n",
    "\n",
    "names = ['LR','R','RF','DTR','GBR']\n",
    "\n",
    "for model,name in zip(models,names):\n",
    "    score = rmse_cv(model,x,y)\n",
    "    print(\"{}    : {:.6f}, {:4f}\".format(name,score.mean(),score.std()))\n",
    "\n"
   ]
  },
  {
   "cell_type": "markdown",
   "id": "06f0a340",
   "metadata": {},
   "source": [
    "-->Accourding to all metrics score selecting the GradientBoostingRegressoras for GridSeachCV"
   ]
  },
  {
   "cell_type": "markdown",
   "id": "08b1f74f",
   "metadata": {},
   "source": [
    "# HYPER PARAMETER TUNING:\n",
    "GridSearchCV"
   ]
  },
  {
   "cell_type": "markdown",
   "id": "9be763ae",
   "metadata": {},
   "source": [
    "# With GradientBoostingRegressor"
   ]
  },
  {
   "cell_type": "code",
   "execution_count": 60,
   "id": "689f098b",
   "metadata": {},
   "outputs": [],
   "source": [
    "GF=GradientBoostingRegressor()\n",
    "param={\n",
    "     'criterion':['mse','mae'],\n",
    "     'n_estimators':[100, 200],\n",
    "    }"
   ]
  },
  {
   "cell_type": "code",
   "execution_count": 61,
   "id": "b95ba114",
   "metadata": {},
   "outputs": [],
   "source": [
    "GF_grid=GridSearchCV(RandomForestRegressor(),param,cv=10,scoring='accuracy',n_jobs=-1,verbose=2)\n"
   ]
  },
  {
   "cell_type": "code",
   "execution_count": 62,
   "id": "bfa4643e",
   "metadata": {},
   "outputs": [
    {
     "name": "stdout",
     "output_type": "stream",
     "text": [
      "Fitting 10 folds for each of 4 candidates, totalling 40 fits\n"
     ]
    },
    {
     "name": "stderr",
     "output_type": "stream",
     "text": [
      "C:\\Users\\Subham\\anaconda3\\lib\\site-packages\\sklearn\\model_selection\\_search.py:953: UserWarning: One or more of the test scores are non-finite: [nan nan nan nan]\n",
      "  warnings.warn(\n",
      "C:\\Users\\Subham\\anaconda3\\lib\\site-packages\\sklearn\\ensemble\\_forest.py:400: FutureWarning: Criterion 'mse' was deprecated in v1.0 and will be removed in version 1.2. Use `criterion='squared_error'` which is equivalent.\n",
      "  warn(\n"
     ]
    }
   ],
   "source": [
    "GF_grid.fit(x_train,y_train)\n",
    "GF_grid_pred=GF_grid.best_estimator_.predict(x_test)\n"
   ]
  },
  {
   "cell_type": "code",
   "execution_count": 63,
   "id": "3e1568d5",
   "metadata": {},
   "outputs": [
    {
     "data": {
      "text/plain": [
       "{'criterion': 'mse', 'n_estimators': 100}"
      ]
     },
     "execution_count": 63,
     "metadata": {},
     "output_type": "execute_result"
    }
   ],
   "source": [
    "GF_grid.best_params_\n"
   ]
  },
  {
   "cell_type": "code",
   "execution_count": 64,
   "id": "4a74032b",
   "metadata": {},
   "outputs": [
    {
     "name": "stdout",
     "output_type": "stream",
     "text": [
      "MSE: 23524.56550473387\n",
      "MAE: 83.30236439980605\n",
      "r2_score: 0.8424146173698036\n"
     ]
    }
   ],
   "source": [
    "print('MSE:',mean_squared_error(GF_grid_pred,y_test))\n",
    "print('MAE:',mean_absolute_error(GF_grid_pred,y_test))\n",
    "print('r2_score:',r2_score(GF_grid_pred,y_test))\n"
   ]
  },
  {
   "cell_type": "markdown",
   "id": "9f12516e",
   "metadata": {},
   "source": [
    "# Choosing GradientBoostingRegressor as the best model"
   ]
  },
  {
   "cell_type": "code",
   "execution_count": 67,
   "id": "504e7c48",
   "metadata": {},
   "outputs": [],
   "source": [
    "# save the model\n",
    "# now save the model \n",
    "pickle.dump(GF_grid,open('reg_powerplant','wb'))"
   ]
  },
  {
   "cell_type": "markdown",
   "id": "2e16b5e8",
   "metadata": {},
   "source": [
    "# TAKING 'primary_fuel' AS TARGET , CREATING CLASSIFICATION MODEL Dividing data into X and Y"
   ]
  },
  {
   "cell_type": "code",
   "execution_count": 68,
   "id": "47b43316",
   "metadata": {},
   "outputs": [],
   "source": [
    "x=df.drop(['primary_fuel'],axis=1)\n",
    "y=df['primary_fuel']\n"
   ]
  },
  {
   "cell_type": "markdown",
   "id": "e8b87c82",
   "metadata": {},
   "source": [
    "# Spliting Train and Test data"
   ]
  },
  {
   "cell_type": "code",
   "execution_count": 69,
   "id": "5ba3ea26",
   "metadata": {},
   "outputs": [],
   "source": [
    "x_train,x_test,y_train,y_test=train_test_split(x,y,test_size=.27,random_state=42)\n"
   ]
  },
  {
   "cell_type": "markdown",
   "id": "fd2397fa",
   "metadata": {},
   "source": [
    "# MODEL BUILDING:"
   ]
  },
  {
   "cell_type": "markdown",
   "id": "c05f8afd",
   "metadata": {},
   "source": [
    "# LogisticRegression"
   ]
  },
  {
   "cell_type": "code",
   "execution_count": 71,
   "id": "7c108a3b",
   "metadata": {},
   "outputs": [
    {
     "name": "stderr",
     "output_type": "stream",
     "text": [
      "C:\\Users\\Subham\\anaconda3\\lib\\site-packages\\sklearn\\linear_model\\_logistic.py:444: ConvergenceWarning: lbfgs failed to converge (status=1):\n",
      "STOP: TOTAL NO. of ITERATIONS REACHED LIMIT.\n",
      "\n",
      "Increase the number of iterations (max_iter) or scale the data as shown in:\n",
      "    https://scikit-learn.org/stable/modules/preprocessing.html\n",
      "Please also refer to the documentation for alternative solver options:\n",
      "    https://scikit-learn.org/stable/modules/linear_model.html#logistic-regression\n",
      "  n_iter_i = _check_optimize_result(\n",
      "C:\\Users\\Subham\\anaconda3\\lib\\site-packages\\sklearn\\linear_model\\_logistic.py:444: ConvergenceWarning: lbfgs failed to converge (status=1):\n",
      "STOP: TOTAL NO. of ITERATIONS REACHED LIMIT.\n",
      "\n",
      "Increase the number of iterations (max_iter) or scale the data as shown in:\n",
      "    https://scikit-learn.org/stable/modules/preprocessing.html\n",
      "Please also refer to the documentation for alternative solver options:\n",
      "    https://scikit-learn.org/stable/modules/linear_model.html#logistic-regression\n",
      "  n_iter_i = _check_optimize_result(\n",
      "C:\\Users\\Subham\\anaconda3\\lib\\site-packages\\sklearn\\linear_model\\_logistic.py:444: ConvergenceWarning: lbfgs failed to converge (status=1):\n",
      "STOP: TOTAL NO. of ITERATIONS REACHED LIMIT.\n",
      "\n",
      "Increase the number of iterations (max_iter) or scale the data as shown in:\n",
      "    https://scikit-learn.org/stable/modules/preprocessing.html\n",
      "Please also refer to the documentation for alternative solver options:\n",
      "    https://scikit-learn.org/stable/modules/linear_model.html#logistic-regression\n",
      "  n_iter_i = _check_optimize_result(\n",
      "C:\\Users\\Subham\\anaconda3\\lib\\site-packages\\sklearn\\linear_model\\_logistic.py:444: ConvergenceWarning: lbfgs failed to converge (status=1):\n",
      "STOP: TOTAL NO. of ITERATIONS REACHED LIMIT.\n",
      "\n",
      "Increase the number of iterations (max_iter) or scale the data as shown in:\n",
      "    https://scikit-learn.org/stable/modules/preprocessing.html\n",
      "Please also refer to the documentation for alternative solver options:\n",
      "    https://scikit-learn.org/stable/modules/linear_model.html#logistic-regression\n",
      "  n_iter_i = _check_optimize_result(\n"
     ]
    },
    {
     "name": "stdout",
     "output_type": "stream",
     "text": [
      "cross validation score: 0.5222927638698506\n"
     ]
    },
    {
     "name": "stderr",
     "output_type": "stream",
     "text": [
      "C:\\Users\\Subham\\anaconda3\\lib\\site-packages\\sklearn\\linear_model\\_logistic.py:444: ConvergenceWarning: lbfgs failed to converge (status=1):\n",
      "STOP: TOTAL NO. of ITERATIONS REACHED LIMIT.\n",
      "\n",
      "Increase the number of iterations (max_iter) or scale the data as shown in:\n",
      "    https://scikit-learn.org/stable/modules/preprocessing.html\n",
      "Please also refer to the documentation for alternative solver options:\n",
      "    https://scikit-learn.org/stable/modules/linear_model.html#logistic-regression\n",
      "  n_iter_i = _check_optimize_result(\n"
     ]
    }
   ],
   "source": [
    "logreg=LogisticRegression()\n",
    "logreg_score=cross_val_score(logreg,x,y,cv=5,scoring='accuracy')\n",
    "print(\"cross validation score:\",np.mean(logreg_score))\n"
   ]
  },
  {
   "cell_type": "code",
   "execution_count": 72,
   "id": "4c58aeb7",
   "metadata": {},
   "outputs": [
    {
     "name": "stdout",
     "output_type": "stream",
     "text": [
      "0.5377777777777778\n",
      "[[ 0  0  0  0  0  7  2]\n",
      " [ 0 39  3  8  0  7  6]\n",
      " [ 0  8  0  6  0  2  2]\n",
      " [ 0  9  0 31  0  0 27]\n",
      " [ 0  1  0  3  0  1  5]\n",
      " [ 0  0  0  0  0 17  3]\n",
      " [ 0  0  0  4  0  0 34]]\n",
      "              precision    recall  f1-score   support\n",
      "\n",
      "           0       0.00      0.00      0.00         9\n",
      "           1       0.68      0.62      0.65        63\n",
      "           2       0.00      0.00      0.00        18\n",
      "           3       0.60      0.46      0.52        67\n",
      "           5       0.00      0.00      0.00        10\n",
      "           6       0.50      0.85      0.63        20\n",
      "           7       0.43      0.89      0.58        38\n",
      "\n",
      "    accuracy                           0.54       225\n",
      "   macro avg       0.32      0.40      0.34       225\n",
      "weighted avg       0.49      0.54      0.49       225\n",
      "\n",
      "Training accuracy:: 0.5509868421052632\n",
      "Test accuracy:: 0.5377777777777778\n"
     ]
    },
    {
     "name": "stderr",
     "output_type": "stream",
     "text": [
      "C:\\Users\\Subham\\anaconda3\\lib\\site-packages\\sklearn\\linear_model\\_logistic.py:444: ConvergenceWarning: lbfgs failed to converge (status=1):\n",
      "STOP: TOTAL NO. of ITERATIONS REACHED LIMIT.\n",
      "\n",
      "Increase the number of iterations (max_iter) or scale the data as shown in:\n",
      "    https://scikit-learn.org/stable/modules/preprocessing.html\n",
      "Please also refer to the documentation for alternative solver options:\n",
      "    https://scikit-learn.org/stable/modules/linear_model.html#logistic-regression\n",
      "  n_iter_i = _check_optimize_result(\n",
      "C:\\Users\\Subham\\anaconda3\\lib\\site-packages\\sklearn\\metrics\\_classification.py:1334: UndefinedMetricWarning: Precision and F-score are ill-defined and being set to 0.0 in labels with no predicted samples. Use `zero_division` parameter to control this behavior.\n",
      "  _warn_prf(average, modifier, msg_start, len(result))\n",
      "C:\\Users\\Subham\\anaconda3\\lib\\site-packages\\sklearn\\metrics\\_classification.py:1334: UndefinedMetricWarning: Precision and F-score are ill-defined and being set to 0.0 in labels with no predicted samples. Use `zero_division` parameter to control this behavior.\n",
      "  _warn_prf(average, modifier, msg_start, len(result))\n",
      "C:\\Users\\Subham\\anaconda3\\lib\\site-packages\\sklearn\\metrics\\_classification.py:1334: UndefinedMetricWarning: Precision and F-score are ill-defined and being set to 0.0 in labels with no predicted samples. Use `zero_division` parameter to control this behavior.\n",
      "  _warn_prf(average, modifier, msg_start, len(result))\n"
     ]
    }
   ],
   "source": [
    "logreg.fit(x_train,y_train)\n",
    "LR_predicted=logreg.predict(x_test)\n",
    "\n",
    "print(accuracy_score(y_test,LR_predicted))\n",
    "print(confusion_matrix(y_test,LR_predicted))\n",
    "print(classification_report(y_test,LR_predicted))\n",
    "print(\"Training accuracy::\",logreg.score(x_train,y_train))\n",
    "print(\"Test accuracy::\",logreg.score(x_test,y_test))\n"
   ]
  },
  {
   "cell_type": "markdown",
   "id": "b524e8f8",
   "metadata": {},
   "source": [
    "# DECISION TREE CLASSIFIER"
   ]
  },
  {
   "cell_type": "code",
   "execution_count": 74,
   "id": "6981524f",
   "metadata": {},
   "outputs": [
    {
     "name": "stdout",
     "output_type": "stream",
     "text": [
      "cross validation score for svm: 0.8127047110598081\n"
     ]
    }
   ],
   "source": [
    "dtc=DecisionTreeClassifier()\n",
    "dtc_score=cross_val_score(dtc,x,y,cv=5,scoring='accuracy')\n",
    "print(\"cross validation score for svm:\",np.mean(dtc_score))\n",
    "\n"
   ]
  },
  {
   "cell_type": "code",
   "execution_count": 75,
   "id": "535bf43e",
   "metadata": {},
   "outputs": [
    {
     "name": "stdout",
     "output_type": "stream",
     "text": [
      "0.7866666666666666\n",
      "[[ 3  5  1  0  0  0  0]\n",
      " [ 6 44  9  2  0  2  0]\n",
      " [ 0  2 10  2  4  0  0]\n",
      " [ 0  5  5 56  1  0  0]\n",
      " [ 0  1  3  0  6  0  0]\n",
      " [ 0  0  0  0  0 20  0]\n",
      " [ 0  0  0  0  0  0 38]]\n",
      "              precision    recall  f1-score   support\n",
      "\n",
      "           0       0.33      0.33      0.33         9\n",
      "           1       0.77      0.70      0.73        63\n",
      "           2       0.36      0.56      0.43        18\n",
      "           3       0.93      0.84      0.88        67\n",
      "           5       0.55      0.60      0.57        10\n",
      "           6       0.91      1.00      0.95        20\n",
      "           7       1.00      1.00      1.00        38\n",
      "\n",
      "    accuracy                           0.79       225\n",
      "   macro avg       0.69      0.72      0.70       225\n",
      "weighted avg       0.81      0.79      0.79       225\n",
      "\n",
      "Training accuracy:: 1.0\n",
      "Test accuracy:: 0.7866666666666666\n"
     ]
    }
   ],
   "source": [
    "dtc.fit(x_train,y_train)\n",
    "predicted_dtc=dtc.predict(x_test)\n",
    "print(accuracy_score(y_test,predicted_dtc))\n",
    "print(confusion_matrix(y_test,predicted_dtc))\n",
    "print(classification_report(y_test,predicted_dtc))\n",
    "print(\"Training accuracy::\",dtc.score(x_train,y_train))\n",
    "print(\"Test accuracy::\",dtc.score(x_test,y_test))\n"
   ]
  },
  {
   "cell_type": "markdown",
   "id": "a7869310",
   "metadata": {},
   "source": [
    "# KNeighborsClassifier"
   ]
  },
  {
   "cell_type": "code",
   "execution_count": 76,
   "id": "5da5f5a8",
   "metadata": {},
   "outputs": [
    {
     "name": "stdout",
     "output_type": "stream",
     "text": [
      "cross validation score for knn: 0.7262751605223288\n"
     ]
    }
   ],
   "source": [
    "knn=KNeighborsClassifier()\n",
    "knn_score=cross_val_score(knn,x,y,cv=5,scoring='accuracy')\n",
    "print(\"cross validation score for knn:\",np.mean(knn_score))\n"
   ]
  },
  {
   "cell_type": "code",
   "execution_count": 77,
   "id": "9106863d",
   "metadata": {},
   "outputs": [
    {
     "name": "stdout",
     "output_type": "stream",
     "text": [
      "0.7466666666666667\n",
      "[[ 6  2  0  0  0  1  0]\n",
      " [ 2 44  0  8  1  5  3]\n",
      " [ 1  7  1  8  1  0  0]\n",
      " [ 0  4  1 59  0  0  3]\n",
      " [ 1  1  3  3  1  0  1]\n",
      " [ 0  1  0  0  0 19  0]\n",
      " [ 0  0  0  0  0  0 38]]\n",
      "              precision    recall  f1-score   support\n",
      "\n",
      "           0       0.60      0.67      0.63         9\n",
      "           1       0.75      0.70      0.72        63\n",
      "           2       0.20      0.06      0.09        18\n",
      "           3       0.76      0.88      0.81        67\n",
      "           5       0.33      0.10      0.15        10\n",
      "           6       0.76      0.95      0.84        20\n",
      "           7       0.84      1.00      0.92        38\n",
      "\n",
      "    accuracy                           0.75       225\n",
      "   macro avg       0.61      0.62      0.60       225\n",
      "weighted avg       0.70      0.75      0.71       225\n",
      "\n",
      "Training accuracy:: 0.7911184210526315\n",
      "Test accuracy:: 0.7466666666666667\n"
     ]
    }
   ],
   "source": [
    "knn.fit(x_train,y_train)\n",
    "predicted_knn=knn.predict(x_test)\n",
    "print(accuracy_score(y_test,predicted_knn))\n",
    "print(confusion_matrix(y_test,predicted_knn))\n",
    "print(classification_report(y_test,predicted_knn))\n",
    "print(\"Training accuracy::\",knn.score(x_train,y_train))\n",
    "print(\"Test accuracy::\",knn.score(x_test,y_test))\n",
    "\n",
    "\n",
    "     "
   ]
  },
  {
   "cell_type": "markdown",
   "id": "54a618ff",
   "metadata": {},
   "source": [
    "# RandomForestClassifier"
   ]
  },
  {
   "cell_type": "code",
   "execution_count": 78,
   "id": "44d8400a",
   "metadata": {},
   "outputs": [
    {
     "name": "stdout",
     "output_type": "stream",
     "text": [
      "cross validation score for rfc: 0.8535098477743308\n"
     ]
    }
   ],
   "source": [
    "rfc=RandomForestClassifier()\n",
    "rfc_score=cross_val_score(rfc,x,y,cv=5,scoring='accuracy')\n",
    "print(\"cross validation score for rfc:\",np.mean(rfc_score))\n"
   ]
  },
  {
   "cell_type": "code",
   "execution_count": 79,
   "id": "75a5a3fb",
   "metadata": {},
   "outputs": [
    {
     "name": "stdout",
     "output_type": "stream",
     "text": [
      "0.8888888888888888\n",
      "[[ 7  2  0  0  0  0  0]\n",
      " [ 2 56  1  4  0  0  0]\n",
      " [ 0  4  7  3  4  0  0]\n",
      " [ 0  1  1 65  0  0  0]\n",
      " [ 0  0  3  0  7  0  0]\n",
      " [ 0  0  0  0  0 20  0]\n",
      " [ 0  0  0  0  0  0 38]]\n",
      "              precision    recall  f1-score   support\n",
      "\n",
      "           0       0.78      0.78      0.78         9\n",
      "           1       0.89      0.89      0.89        63\n",
      "           2       0.58      0.39      0.47        18\n",
      "           3       0.90      0.97      0.94        67\n",
      "           5       0.64      0.70      0.67        10\n",
      "           6       1.00      1.00      1.00        20\n",
      "           7       1.00      1.00      1.00        38\n",
      "\n",
      "    accuracy                           0.89       225\n",
      "   macro avg       0.83      0.82      0.82       225\n",
      "weighted avg       0.88      0.89      0.88       225\n",
      "\n",
      "Training accuracy:: 1.0\n",
      "Test accuracy:: 0.8888888888888888\n"
     ]
    }
   ],
   "source": [
    "rfc.fit(x_train,y_train)\n",
    "predicted_rfc=rfc.predict(x_test)\n",
    "print(accuracy_score(y_test,predicted_rfc))\n",
    "print(confusion_matrix(y_test,predicted_rfc))\n",
    "print(classification_report(y_test,predicted_rfc))\n",
    "print(\"Training accuracy::\",rfc.score(x_train,y_train))\n",
    "print(\"Test accuracy::\",rfc.score(x_test,y_test))\n"
   ]
  },
  {
   "cell_type": "markdown",
   "id": "2a00ff73",
   "metadata": {},
   "source": [
    "# ENSEMBLE TECHNIQUES"
   ]
  },
  {
   "cell_type": "markdown",
   "id": "940a82d7",
   "metadata": {},
   "source": [
    "# 1. ADA BOOST CLASSIFIER"
   ]
  },
  {
   "cell_type": "code",
   "execution_count": 80,
   "id": "ccc9dd0a",
   "metadata": {},
   "outputs": [
    {
     "name": "stderr",
     "output_type": "stream",
     "text": [
      "C:\\Users\\Subham\\anaconda3\\lib\\site-packages\\sklearn\\model_selection\\_split.py:684: UserWarning: The least populated class in y has only 9 members, which is less than n_splits=10.\n",
      "  warnings.warn(\n"
     ]
    },
    {
     "name": "stdout",
     "output_type": "stream",
     "text": [
      "cross validation score for Ada boost: 0.5712134251290879\n"
     ]
    }
   ],
   "source": [
    "adb=AdaBoostClassifier()\n",
    "adb_score=cross_val_score(adb,x,y,cv=10,scoring='accuracy')\n",
    "print(\"cross validation score for Ada boost:\",np.mean(adb_score))\n",
    "\n",
    "\n",
    "     "
   ]
  },
  {
   "cell_type": "code",
   "execution_count": 81,
   "id": "536a1886",
   "metadata": {},
   "outputs": [
    {
     "name": "stdout",
     "output_type": "stream",
     "text": [
      "0.6088888888888889\n",
      "[[ 0  9  0  0  0  0  0]\n",
      " [ 0 12  0 49  0  0  2]\n",
      " [ 0  2  0 16  0  0  0]\n",
      " [ 0  0  0 67  0  0  0]\n",
      " [ 0  2  0  7  0  0  1]\n",
      " [ 0  0  0  0  0 20  0]\n",
      " [ 0  0  0  0  0  0 38]]\n",
      "              precision    recall  f1-score   support\n",
      "\n",
      "           0       0.00      0.00      0.00         9\n",
      "           1       0.48      0.19      0.27        63\n",
      "           2       0.00      0.00      0.00        18\n",
      "           3       0.48      1.00      0.65        67\n",
      "           5       0.00      0.00      0.00        10\n",
      "           6       1.00      1.00      1.00        20\n",
      "           7       0.93      1.00      0.96        38\n",
      "\n",
      "    accuracy                           0.61       225\n",
      "   macro avg       0.41      0.46      0.41       225\n",
      "weighted avg       0.52      0.61      0.52       225\n",
      "\n",
      "Training accuracy:: 0.618421052631579\n",
      "Test accuracy:: 0.6088888888888889\n"
     ]
    },
    {
     "name": "stderr",
     "output_type": "stream",
     "text": [
      "C:\\Users\\Subham\\anaconda3\\lib\\site-packages\\sklearn\\metrics\\_classification.py:1334: UndefinedMetricWarning: Precision and F-score are ill-defined and being set to 0.0 in labels with no predicted samples. Use `zero_division` parameter to control this behavior.\n",
      "  _warn_prf(average, modifier, msg_start, len(result))\n",
      "C:\\Users\\Subham\\anaconda3\\lib\\site-packages\\sklearn\\metrics\\_classification.py:1334: UndefinedMetricWarning: Precision and F-score are ill-defined and being set to 0.0 in labels with no predicted samples. Use `zero_division` parameter to control this behavior.\n",
      "  _warn_prf(average, modifier, msg_start, len(result))\n",
      "C:\\Users\\Subham\\anaconda3\\lib\\site-packages\\sklearn\\metrics\\_classification.py:1334: UndefinedMetricWarning: Precision and F-score are ill-defined and being set to 0.0 in labels with no predicted samples. Use `zero_division` parameter to control this behavior.\n",
      "  _warn_prf(average, modifier, msg_start, len(result))\n"
     ]
    }
   ],
   "source": [
    "adb.fit(x_train,y_train)\n",
    "predicted_adb=adb.predict(x_test)\n",
    "print(accuracy_score(y_test,predicted_adb))\n",
    "print(confusion_matrix(y_test,predicted_adb))\n",
    "print(classification_report(y_test,predicted_adb))\n",
    "print(\"Training accuracy::\",adb.score(x_train,y_train))\n",
    "print(\"Test accuracy::\",adb.score(x_test,y_test))\n",
    "\n"
   ]
  },
  {
   "cell_type": "markdown",
   "id": "4bcf316a",
   "metadata": {},
   "source": [
    "# 2  Gradient Boosting classifier"
   ]
  },
  {
   "cell_type": "code",
   "execution_count": 82,
   "id": "88f90cad",
   "metadata": {},
   "outputs": [
    {
     "name": "stderr",
     "output_type": "stream",
     "text": [
      "C:\\Users\\Subham\\anaconda3\\lib\\site-packages\\sklearn\\model_selection\\_split.py:684: UserWarning: The least populated class in y has only 9 members, which is less than n_splits=10.\n",
      "  warnings.warn(\n"
     ]
    },
    {
     "name": "stdout",
     "output_type": "stream",
     "text": [
      "cross validation score for Gradient Boosting Classifier: 0.8571428571428571\n"
     ]
    }
   ],
   "source": [
    "grbc=GradientBoostingClassifier()\n",
    "grbc_score=cross_val_score(grbc,x,y,cv=10,scoring='accuracy')\n",
    "print(\"cross validation score for Gradient Boosting Classifier:\",np.mean(grbc_score))\n"
   ]
  },
  {
   "cell_type": "code",
   "execution_count": 84,
   "id": "320df653",
   "metadata": {},
   "outputs": [
    {
     "name": "stdout",
     "output_type": "stream",
     "text": [
      "0.8622222222222222\n",
      "[[ 7  1  0  0  1  0  0]\n",
      " [ 3 54  2  3  1  0  0]\n",
      " [ 1  4  7  3  3  0  0]\n",
      " [ 0  4  0 63  0  0  0]\n",
      " [ 0  0  3  2  5  0  0]\n",
      " [ 0  0  0  0  0 20  0]\n",
      " [ 0  0  0  0  0  0 38]]\n",
      "              precision    recall  f1-score   support\n",
      "\n",
      "           0       0.64      0.78      0.70         9\n",
      "           1       0.86      0.86      0.86        63\n",
      "           2       0.58      0.39      0.47        18\n",
      "           3       0.89      0.94      0.91        67\n",
      "           5       0.50      0.50      0.50        10\n",
      "           6       1.00      1.00      1.00        20\n",
      "           7       1.00      1.00      1.00        38\n",
      "\n",
      "    accuracy                           0.86       225\n",
      "   macro avg       0.78      0.78      0.78       225\n",
      "weighted avg       0.86      0.86      0.86       225\n",
      "\n",
      "Training accuracy:: 1.0\n",
      "Test accuracy:: 0.8622222222222222\n"
     ]
    }
   ],
   "source": [
    "grbc.fit(x_train,y_train)\n",
    "predicted_grbc=grbc.predict(x_test)\n",
    "print(accuracy_score(y_test,predicted_grbc))\n",
    "print(confusion_matrix(y_test,predicted_grbc))\n",
    "print(classification_report(y_test,predicted_grbc))\n",
    "print(\"Training accuracy::\",grbc.score(x_train,y_train))\n",
    "print(\"Test accuracy::\",grbc.score(x_test,y_test))\n",
    "\n"
   ]
  },
  {
   "cell_type": "markdown",
   "id": "a17028e7",
   "metadata": {},
   "source": [
    "# so by all of the observations rando forest is good for model building"
   ]
  },
  {
   "cell_type": "code",
   "execution_count": 85,
   "id": "04b26125",
   "metadata": {},
   "outputs": [],
   "source": [
    "# save the model\n",
    "# now save the model \n",
    "pickle.dump(rfc,open('reg_powerplant','wb'))"
   ]
  },
  {
   "cell_type": "code",
   "execution_count": null,
   "id": "fdbdd432",
   "metadata": {},
   "outputs": [],
   "source": []
  }
 ],
 "metadata": {
  "kernelspec": {
   "display_name": "Python 3 (ipykernel)",
   "language": "python",
   "name": "python3"
  },
  "language_info": {
   "codemirror_mode": {
    "name": "ipython",
    "version": 3
   },
   "file_extension": ".py",
   "mimetype": "text/x-python",
   "name": "python",
   "nbconvert_exporter": "python",
   "pygments_lexer": "ipython3",
   "version": "3.9.12"
  }
 },
 "nbformat": 4,
 "nbformat_minor": 5
}
