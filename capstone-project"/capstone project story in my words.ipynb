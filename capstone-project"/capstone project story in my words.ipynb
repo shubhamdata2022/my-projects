{
 "cells": [
  {
   "cell_type": "markdown",
   "id": "31660d70",
   "metadata": {},
   "source": [
    "# CAPSTONE PROJECT SUMMRY"
   ]
  },
  {
   "cell_type": "markdown",
   "id": "f751fc57",
   "metadata": {},
   "source": [
    "i worked on this project and got most of experience ,litrally it is full of learning of whole data science journey.\n",
    "in the begnning of the project i was thinking ,how can i complete this project but when i sterted work on it it was really\n",
    "great experince .\n",
    "\n"
   ]
  },
  {
   "cell_type": "markdown",
   "id": "7939470b",
   "metadata": {},
   "source": [
    "# PHASE 1"
   ]
  },
  {
   "cell_type": "markdown",
   "id": "31cb3c0d",
   "metadata": {},
   "source": [
    "the fisrt phase of this  project was:-DATA COLLECTION :- really it is very tough task for me but slowely slowely i worked\n",
    "on it and i completed it .\n",
    "\n",
    "I TAKE DATA FROM MANY OTHER SOURSES WHICH I AM GOING TO DEFINING BELOW.\n",
    "\n",
    "1- THE POPULATION OF EACH STATE--(TAKEN FROM WIKIPIEDIA IN 2011  \"https://en.wikipedia.org/wiki/List_of_states_in_India_by_past_population\")\n",
    "\n",
    "2-LITRACY RATE IN EACH STATE--(TAKEN FROM CENSUS DATA IN 2011   \"https://www.census2011.co.in/states.php\")\n",
    "\n",
    "3-AREA OF EACH STATE --(TAKEN FROM CENCUS DATA IN 2011  \"https://www.census2011.co.in/states.php\")\n",
    "\n",
    "4 -CRIME RATE YEAR WISE --(I FOUND IT FROM DATA SET WHICH I GOT FROM MY LMS)\n",
    "\n",
    "5- I PREPARE DATA SET MANUALLY ,I COVERED MOST OF THE POINTS AND I AM ATTACHING THAT DATA SET BELOW\n",
    "\n",
    "\n",
    "in this whole journey of data collection i lernt lots of things.\n",
    "\n",
    "\n",
    "\n",
    "    \n",
    "    \n",
    "\n"
   ]
  },
  {
   "cell_type": "markdown",
   "id": "f26b83a6",
   "metadata": {},
   "source": [
    "# PHASE 2"
   ]
  },
  {
   "cell_type": "markdown",
   "id": "4ade2794",
   "metadata": {},
   "source": [
    "in this phase i worked on mostely visualization ,it is not that challenging bcoz during my project session i used it many\n",
    "\n",
    "times so i completed this phase eaisely,\n",
    "\n",
    "and i wrote all the results in each phase so no need to do all that here."
   ]
  },
  {
   "cell_type": "markdown",
   "id": "d75f8439",
   "metadata": {},
   "source": [
    "# PHASE 3"
   ]
  },
  {
   "cell_type": "markdown",
   "id": "361e3e8f",
   "metadata": {},
   "source": [
    "basically phase 2 is totally depends upon SQL, IN this phase we are only writing quries for diff diff cases,\n",
    "\n",
    "but i got challenge when i was inserting the data bcoz i had data in the form of excel file but i have to insert the data \n",
    "\n",
    "in the form of csv file ,i consumed most the time on it but finally i got success and i have done it.\n",
    "\n",
    "after that to write the queries was also difficult to me then i again visit my LMS and again watched videos of SQL\n",
    "\n",
    ", after that i was able to write the queries.\n",
    "\n",
    "i write wrong queries 20 to 30 times after that i wote right  query\n"
   ]
  },
  {
   "cell_type": "code",
   "execution_count": null,
   "id": "79494257",
   "metadata": {},
   "outputs": [],
   "source": []
  }
 ],
 "metadata": {
  "kernelspec": {
   "display_name": "Python 3 (ipykernel)",
   "language": "python",
   "name": "python3"
  },
  "language_info": {
   "codemirror_mode": {
    "name": "ipython",
    "version": 3
   },
   "file_extension": ".py",
   "mimetype": "text/x-python",
   "name": "python",
   "nbconvert_exporter": "python",
   "pygments_lexer": "ipython3",
   "version": "3.9.12"
  }
 },
 "nbformat": 4,
 "nbformat_minor": 5
}
